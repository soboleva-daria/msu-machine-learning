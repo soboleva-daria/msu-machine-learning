{
 "cells": [
  {
   "cell_type": "markdown",
   "metadata": {},
   "source": [
    "# Лабораторная работа 1. Pandas, метод ближайших соседей и решающие деревья."
   ]
  },
  {
   "cell_type": "markdown",
   "metadata": {},
   "source": [
    "Соболева Дарья Михайловна\n",
    "\n",
    "317 Группа"
   ]
  },
  {
   "cell_type": "code",
   "execution_count": 2,
   "metadata": {
    "collapsed": false
   },
   "outputs": [
    {
     "name": "stdout",
     "output_type": "stream",
     "text": [
      "Populating the interactive namespace from numpy and matplotlib\n"
     ]
    }
   ],
   "source": [
    "import numpy as np\n",
    "import pandas as pd\n",
    "from sklearn.neighbors import KNeighborsClassifier\n",
    "from sklearn.metrics import roc_auc_score\n",
    "from sklearn import preprocessing\n",
    "from sklearn.cross_validation import KFold\n",
    "%pylab inline"
   ]
  },
  {
   "cell_type": "markdown",
   "metadata": {},
   "source": [
    "## Часть 1: Pandas"
   ]
  },
  {
   "cell_type": "markdown",
   "metadata": {},
   "source": [
    "#### Ответьте на вопросы о данных по авиарейсам в США за январь-апрель 2008 года.\n",
    "\n",
    "Данные: http://stat-computing.org/dataexpo/2009/2008.csv.bz2\n",
    "(обратите внимание, что распаковывать этот файл не обязательно — функция `pandas.read_csv` умеет читать из архивов автоматически)\n",
    "\n",
    "Описание: http://stat-computing.org/dataexpo/2009/the-data.html\n",
    "\n",
    "1. Какая из причин отмены рейса (`CancellationCode`) была самой частой? (расшифровки кодов можно найти в описании данных)\n",
    "2. Найдите среднее, минимальное и максимальное расстояние, пройденное самолетом.\n",
    "3. Не выглядит ли подозрительным минимальное пройденное расстояние? В какие дни и на каких рейсах оно было? Какое расстояние было пройдено этими же рейсами в другие дни?\n",
    "4. Из какого аэропорта было произведено больше всего вылетов? В каком городе он находится?\n",
    "5. Найдите для каждого аэропорта среднее время полета (`AirTime`) по всем вылетевшим из него рейсам. Какой аэропорт имеет наибольшее значение этого показателя?\n",
    "6. Найдите аэропорт, у которого наибольшая доля задержанных (`DepDelay > 0`) рейсов. Исключите при этом из рассмотрения аэропорты, из которых было отправлено меньше 1000 рейсов (используйте функцию `filter` после `groupby`)."
   ]
  },
  {
   "cell_type": "code",
   "execution_count": 39,
   "metadata": {
    "collapsed": false
   },
   "outputs": [
    {
     "name": "stdout",
     "output_type": "stream",
     "text": [
      "--2016-10-30 12:06:48--  http://stat-computing.org/dataexpo/2009/2008.csv.bz2\n",
      "Resolving stat-computing.org (stat-computing.org)... 54.231.169.43\n",
      "Connecting to stat-computing.org (stat-computing.org)|54.231.169.43|:80... connected.\n",
      "HTTP request sent, awaiting response... 200 OK\n",
      "Length: 113753229 (108M) [application/x-bzip2]\n",
      "Saving to: ‘2008.csv.bz2’\n",
      "\n",
      "2008.csv.bz2        100%[===================>] 108,48M  2,10MB/s    in 2m 27s  \n",
      "\n",
      "2016-10-30 12:09:16 (755 KB/s) - ‘2008.csv.bz2’ saved [113753229/113753229]\n",
      "\n"
     ]
    }
   ],
   "source": [
    "#Проблемы с парсингом решились только так :(\n",
    "!wget http://stat-computing.org/dataexpo/2009/2008.csv.bz2"
   ]
  },
  {
   "cell_type": "code",
   "execution_count": 40,
   "metadata": {
    "collapsed": false
   },
   "outputs": [],
   "source": [
    "dfX = pd.read_csv('2008.csv.bz2')"
   ]
  },
  {
   "cell_type": "code",
   "execution_count": 3,
   "metadata": {
    "collapsed": false
   },
   "outputs": [
    {
     "data": {
      "image/png": "[encoded data removed]",
      "text/plain": [
       "<matplotlib.figure.Figure at 0x7f97e11dae48>"
      ]
     },
     "metadata": {},
     "output_type": "display_data"
    }
   ],
   "source": [
    "fig = figure(figsize=(8, 6))\n",
    "dfX.CancellationCode.value_counts().plot(kind='bar')\n",
    "grid()\n",
    "title('Counts per reason of cancellation')\n",
    "show()"
   ]
  },
  {
   "cell_type": "markdown",
   "metadata": {},
   "source": [
    "Нет информации о причине отмены рейса типа D (security).\n",
    "Чаще всего рейсы отменяли из-за погоды (B)."
   ]
  },
  {
   "cell_type": "markdown",
   "metadata": {},
   "source": [
    "Посмотрим на статистику по пройденным расстояниям"
   ]
  },
  {
   "cell_type": "code",
   "execution_count": 4,
   "metadata": {
    "collapsed": false
   },
   "outputs": [
    {
     "data": {
      "text/plain": [
       "count    7009728.000000\n",
       "mean         726.387029\n",
       "std          562.101803\n",
       "min           11.000000\n",
       "25%          325.000000\n",
       "50%          581.000000\n",
       "75%          954.000000\n",
       "max         4962.000000\n",
       "Name: Distance, dtype: float64"
      ]
     },
     "execution_count": 4,
     "metadata": {},
     "output_type": "execute_result"
    }
   ],
   "source": [
    "dfX.Distance.describe()"
   ]
  },
  {
   "cell_type": "markdown",
   "metadata": {},
   "source": [
    "* Минимум - 11 миль\n",
    "* Среднее - примерно 726 миль\n",
    "* Максимум - 4962 мили"
   ]
  },
  {
   "cell_type": "markdown",
   "metadata": {},
   "source": [
    "Минимум составляет всего 11 миль, возможно, мы имеем дело с вертолетом?:)\n",
    "    \n",
    "Посмотрим, кто и когда смог так умудриться."
   ]
  },
  {
   "cell_type": "code",
   "execution_count": 5,
   "metadata": {
    "collapsed": false
   },
   "outputs": [
    {
     "data": {
      "text/plain": [
       "2547298    4\n",
       "4392215    7\n",
       "Name: DayOfWeek, dtype: int64"
      ]
     },
     "execution_count": 5,
     "metadata": {},
     "output_type": "execute_result"
    }
   ],
   "source": [
    "dfX[dfX.Distance==dfX.Distance.min()].DayOfWeek"
   ]
  },
  {
   "cell_type": "markdown",
   "metadata": {},
   "source": [
    "Эти авиарейсы были совершены в четверг и воскресенье"
   ]
  },
  {
   "cell_type": "code",
   "execution_count": 52,
   "metadata": {
    "collapsed": false
   },
   "outputs": [
    {
     "data": {
      "text/plain": [
       "2547298    4988\n",
       "4392215    5572\n",
       "Name: FlightNum, dtype: int64"
      ]
     },
     "execution_count": 52,
     "metadata": {},
     "output_type": "execute_result"
    }
   ],
   "source": [
    "dfX[dfX.Distance==dfX.Distance.min()].FlightNum "
   ]
  },
  {
   "cell_type": "markdown",
   "metadata": {},
   "source": [
    "Рейсы с номерами 4988 и 5572"
   ]
  },
  {
   "cell_type": "markdown",
   "metadata": {},
   "source": [
    "Посмотрим, как летали раньше эти подозрительные авиарейсы"
   ]
  },
  {
   "cell_type": "code",
   "execution_count": 7,
   "metadata": {
    "collapsed": false
   },
   "outputs": [
    {
     "data": {
      "image/png": "[encoded data removed]",
      "text/plain": [
       "<matplotlib.figure.Figure at 0x7f97e11de278>"
      ]
     },
     "metadata": {},
     "output_type": "display_data"
    }
   ],
   "source": [
    "fig = figure(figsize=(8, 6))\n",
    "dfX[dfX.FlightNum==4988].Distance.value_counts().plot(kind='bar')\n",
    "grid()\n",
    "title('Distance statistic on flight#4988')\n",
    "show()"
   ]
  },
  {
   "cell_type": "markdown",
   "metadata": {},
   "source": [
    "В среднем самолет пролетал около 770 миль, что мало, но не является столь подозрительным.\n",
    "\n",
    "Посмотрим на место вылета и прилета."
   ]
  },
  {
   "cell_type": "code",
   "execution_count": 8,
   "metadata": {
    "collapsed": false
   },
   "outputs": [
    {
     "data": {
      "text/plain": [
       "2547298    JFK\n",
       "Name: Origin, dtype: object"
      ]
     },
     "execution_count": 8,
     "metadata": {},
     "output_type": "execute_result"
    }
   ],
   "source": [
    "dfX[(dfX.FlightNum==4988) & (dfX.Distance==11)].Origin"
   ]
  },
  {
   "cell_type": "code",
   "execution_count": 9,
   "metadata": {
    "collapsed": false
   },
   "outputs": [
    {
     "data": {
      "text/plain": [
       "2547298    LGA\n",
       "Name: Dest, dtype: object"
      ]
     },
     "execution_count": 9,
     "metadata": {},
     "output_type": "execute_result"
    }
   ],
   "source": [
    "dfX[(dfX.FlightNum==4988) & (dfX.Distance==11)].Dest"
   ]
  },
  {
   "cell_type": "code",
   "execution_count": 45,
   "metadata": {
    "collapsed": true
   },
   "outputs": [],
   "source": [
    "#для удобства подгрузим информацию об аэропортах\n",
    "air_info = pd.read_csv('http://stat-computing.org/dataexpo/2009/airports.csv')"
   ]
  },
  {
   "cell_type": "code",
   "execution_count": 11,
   "metadata": {
    "collapsed": false
   },
   "outputs": [
    {
     "data": {
      "text/html": [
       "<div>\n",
       "<table border=\"1\" class=\"dataframe\">\n",
       "  <thead>\n",
       "    <tr style=\"text-align: right;\">\n",
       "      <th></th>\n",
       "      <th>iata</th>\n",
       "      <th>airport</th>\n",
       "      <th>city</th>\n",
       "      <th>state</th>\n",
       "      <th>country</th>\n",
       "      <th>lat</th>\n",
       "      <th>long</th>\n",
       "    </tr>\n",
       "  </thead>\n",
       "  <tbody>\n",
       "    <tr>\n",
       "      <th>1915</th>\n",
       "      <td>JFK</td>\n",
       "      <td>John F Kennedy Intl</td>\n",
       "      <td>New York</td>\n",
       "      <td>NY</td>\n",
       "      <td>USA</td>\n",
       "      <td>40.639751</td>\n",
       "      <td>-73.778926</td>\n",
       "    </tr>\n",
       "  </tbody>\n",
       "</table>\n",
       "</div>"
      ],
      "text/plain": [
       "     iata              airport      city state country        lat       long\n",
       "1915  JFK  John F Kennedy Intl  New York    NY     USA  40.639751 -73.778926"
      ]
     },
     "execution_count": 11,
     "metadata": {},
     "output_type": "execute_result"
    }
   ],
   "source": [
    "air_info[air_info.iata=='JFK']"
   ]
  },
  {
   "cell_type": "code",
   "execution_count": 12,
   "metadata": {
    "collapsed": false
   },
   "outputs": [
    {
     "data": {
      "text/html": [
       "<div>\n",
       "<table border=\"1\" class=\"dataframe\">\n",
       "  <thead>\n",
       "    <tr style=\"text-align: right;\">\n",
       "      <th></th>\n",
       "      <th>iata</th>\n",
       "      <th>airport</th>\n",
       "      <th>city</th>\n",
       "      <th>state</th>\n",
       "      <th>country</th>\n",
       "      <th>lat</th>\n",
       "      <th>long</th>\n",
       "    </tr>\n",
       "  </thead>\n",
       "  <tbody>\n",
       "    <tr>\n",
       "      <th>2061</th>\n",
       "      <td>LGA</td>\n",
       "      <td>LaGuardia</td>\n",
       "      <td>New York</td>\n",
       "      <td>NY</td>\n",
       "      <td>USA</td>\n",
       "      <td>40.777243</td>\n",
       "      <td>-73.872609</td>\n",
       "    </tr>\n",
       "  </tbody>\n",
       "</table>\n",
       "</div>"
      ],
      "text/plain": [
       "     iata    airport      city state country        lat       long\n",
       "2061  LGA  LaGuardia  New York    NY     USA  40.777243 -73.872609"
      ]
     },
     "execution_count": 12,
     "metadata": {},
     "output_type": "execute_result"
    }
   ],
   "source": [
    "air_info[air_info.iata=='LGA']"
   ]
  },
  {
   "cell_type": "markdown",
   "metadata": {},
   "source": [
    "Судя по кодам IATA, этот авиарейс осуществлялся из аэропорта Джона Кеннеди в ЛаГардию внутри Нью-Йорка."
   ]
  },
  {
   "cell_type": "code",
   "execution_count": 13,
   "metadata": {
    "collapsed": false
   },
   "outputs": [
    {
     "data": {
      "image/png": "[encoded data removed]",
      "text/plain": [
       "<matplotlib.figure.Figure at 0x7f98153dbf60>"
      ]
     },
     "metadata": {},
     "output_type": "display_data"
    }
   ],
   "source": [
    "fig = figure(figsize=(8, 6))\n",
    "dfX[dfX.FlightNum==5572].Distance.value_counts().plot(kind='bar')\n",
    "grid()\n",
    "title('Distance statistic on flight#5572')\n",
    "show()"
   ]
  },
  {
   "cell_type": "markdown",
   "metadata": {},
   "source": [
    "Эти рейсы гораздно чаще летали, но на более короткие расстояни"
   ]
  },
  {
   "cell_type": "code",
   "execution_count": 14,
   "metadata": {
    "collapsed": false
   },
   "outputs": [
    {
     "data": {
      "text/plain": [
       "4392215    JFK\n",
       "Name: Origin, dtype: object"
      ]
     },
     "execution_count": 14,
     "metadata": {},
     "output_type": "execute_result"
    }
   ],
   "source": [
    "dfX[(dfX.FlightNum==5572) & (dfX.Distance==11)].Origin"
   ]
  },
  {
   "cell_type": "code",
   "execution_count": 15,
   "metadata": {
    "collapsed": false
   },
   "outputs": [
    {
     "data": {
      "text/plain": [
       "4392215    LGA\n",
       "Name: Dest, dtype: object"
      ]
     },
     "execution_count": 15,
     "metadata": {},
     "output_type": "execute_result"
    }
   ],
   "source": [
    "dfX[(dfX.FlightNum==5572) & (dfX.Distance==11)].Dest"
   ]
  },
  {
   "cell_type": "markdown",
   "metadata": {},
   "source": [
    "Значит, летали между аэропортами."
   ]
  },
  {
   "cell_type": "markdown",
   "metadata": {},
   "source": [
    "Посмотрим, из какого аэропорта чаще всего вылетали"
   ]
  },
  {
   "cell_type": "code",
   "execution_count": 16,
   "metadata": {
    "collapsed": false
   },
   "outputs": [
    {
     "data": {
      "text/plain": [
       "count     7009728\n",
       "unique        303\n",
       "top           ATL\n",
       "freq       414513\n",
       "Name: Origin, dtype: object"
      ]
     },
     "execution_count": 16,
     "metadata": {},
     "output_type": "execute_result"
    }
   ],
   "source": [
    "dfX.Origin.describe()"
   ]
  },
  {
   "cell_type": "code",
   "execution_count": 17,
   "metadata": {
    "collapsed": false
   },
   "outputs": [
    {
     "data": {
      "text/html": [
       "<div>\n",
       "<table border=\"1\" class=\"dataframe\">\n",
       "  <thead>\n",
       "    <tr style=\"text-align: right;\">\n",
       "      <th></th>\n",
       "      <th>iata</th>\n",
       "      <th>airport</th>\n",
       "      <th>city</th>\n",
       "      <th>state</th>\n",
       "      <th>country</th>\n",
       "      <th>lat</th>\n",
       "      <th>long</th>\n",
       "    </tr>\n",
       "  </thead>\n",
       "  <tbody>\n",
       "    <tr>\n",
       "      <th>880</th>\n",
       "      <td>ATL</td>\n",
       "      <td>William B Hartsfield-Atlanta Intl</td>\n",
       "      <td>Atlanta</td>\n",
       "      <td>GA</td>\n",
       "      <td>USA</td>\n",
       "      <td>33.640444</td>\n",
       "      <td>-84.426944</td>\n",
       "    </tr>\n",
       "  </tbody>\n",
       "</table>\n",
       "</div>"
      ],
      "text/plain": [
       "    iata                            airport     city state country        lat  \\\n",
       "880  ATL  William B Hartsfield-Atlanta Intl  Atlanta    GA     USA  33.640444   \n",
       "\n",
       "          long  \n",
       "880 -84.426944  "
      ]
     },
     "execution_count": 17,
     "metadata": {},
     "output_type": "execute_result"
    }
   ],
   "source": [
    "air_info[air_info.iata=='ATL']"
   ]
  },
  {
   "cell_type": "markdown",
   "metadata": {},
   "source": [
    "По данным из вики, этот аэропорт, расположенный в Атланте, был провозглашен самым популярным по числу пассажирских перевозок и по \n",
    "количеству взлетов и посадок.\n",
    "https://en.wikipedia.org/wiki/Hartsfield%E2%80%93Jackson_Atlanta_International_Airport"
   ]
  },
  {
   "cell_type": "markdown",
   "metadata": {},
   "source": [
    "Посмотрим на статистику по каждому из аэропортов"
   ]
  },
  {
   "cell_type": "code",
   "execution_count": 19,
   "metadata": {
    "collapsed": false
   },
   "outputs": [
    {
     "data": {
      "text/html": [
       "<div>\n",
       "<table border=\"1\" class=\"dataframe\">\n",
       "  <thead>\n",
       "    <tr style=\"text-align: right;\">\n",
       "      <th></th>\n",
       "      <th>Origin</th>\n",
       "      <th>AirTime</th>\n",
       "    </tr>\n",
       "  </thead>\n",
       "  <tbody>\n",
       "    <tr>\n",
       "      <th>0</th>\n",
       "      <td>ABE</td>\n",
       "      <td>89.057518</td>\n",
       "    </tr>\n",
       "    <tr>\n",
       "      <th>1</th>\n",
       "      <td>ABI</td>\n",
       "      <td>36.789977</td>\n",
       "    </tr>\n",
       "    <tr>\n",
       "      <th>2</th>\n",
       "      <td>ABQ</td>\n",
       "      <td>91.657166</td>\n",
       "    </tr>\n",
       "    <tr>\n",
       "      <th>3</th>\n",
       "      <td>ABY</td>\n",
       "      <td>35.379759</td>\n",
       "    </tr>\n",
       "    <tr>\n",
       "      <th>4</th>\n",
       "      <td>ACK</td>\n",
       "      <td>50.692124</td>\n",
       "    </tr>\n",
       "  </tbody>\n",
       "</table>\n",
       "</div>"
      ],
      "text/plain": [
       "  Origin    AirTime\n",
       "0    ABE  89.057518\n",
       "1    ABI  36.789977\n",
       "2    ABQ  91.657166\n",
       "3    ABY  35.379759\n",
       "4    ACK  50.692124"
      ]
     },
     "execution_count": 19,
     "metadata": {},
     "output_type": "execute_result"
    }
   ],
   "source": [
    "mean_time = dfX.groupby('Origin')['AirTime'].mean().reset_index()\n",
    "mean_time.head()"
   ]
  },
  {
   "cell_type": "code",
   "execution_count": 90,
   "metadata": {
    "collapsed": false
   },
   "outputs": [
    {
     "data": {
      "text/plain": [
       "Origin         SJU\n",
       "AirTime    203.851\n",
       "Name: 266, dtype: object"
      ]
     },
     "execution_count": 90,
     "metadata": {},
     "output_type": "execute_result"
    }
   ],
   "source": [
    "mean_time.ix[mean_time.AirTime.idxmax()]"
   ]
  },
  {
   "cell_type": "code",
   "execution_count": 21,
   "metadata": {
    "collapsed": false
   },
   "outputs": [
    {
     "data": {
      "text/html": [
       "<div>\n",
       "<table border=\"1\" class=\"dataframe\">\n",
       "  <thead>\n",
       "    <tr style=\"text-align: right;\">\n",
       "      <th></th>\n",
       "      <th>iata</th>\n",
       "      <th>airport</th>\n",
       "      <th>city</th>\n",
       "      <th>state</th>\n",
       "      <th>country</th>\n",
       "      <th>lat</th>\n",
       "      <th>long</th>\n",
       "    </tr>\n",
       "  </thead>\n",
       "  <tbody>\n",
       "    <tr>\n",
       "      <th>2962</th>\n",
       "      <td>SJU</td>\n",
       "      <td>Luis Munoz Marin International</td>\n",
       "      <td>San Juan</td>\n",
       "      <td>PR</td>\n",
       "      <td>USA</td>\n",
       "      <td>18.439417</td>\n",
       "      <td>-66.001833</td>\n",
       "    </tr>\n",
       "  </tbody>\n",
       "</table>\n",
       "</div>"
      ],
      "text/plain": [
       "     iata                         airport      city state country        lat  \\\n",
       "2962  SJU  Luis Munoz Marin International  San Juan    PR     USA  18.439417   \n",
       "\n",
       "           long  \n",
       "2962 -66.001833  "
      ]
     },
     "execution_count": 21,
     "metadata": {},
     "output_type": "execute_result"
    }
   ],
   "source": [
    "air_info[air_info.iata=='SJU']"
   ]
  },
  {
   "cell_type": "markdown",
   "metadata": {},
   "source": [
    "Международный аэропорт имени Луиса Муньоса Марина имеет самый высокий показатель среднего веремни полета по всем вылетавшим из него рейсов."
   ]
  },
  {
   "cell_type": "code",
   "execution_count": 87,
   "metadata": {
    "collapsed": false
   },
   "outputs": [
    {
     "data": {
      "text/plain": [
       "Origin                  DAL\n",
       "DepDelay_counts       31205\n",
       "Counts                53928\n",
       "Delay_freq         0.578642\n",
       "Name: 23, dtype: object"
      ]
     },
     "execution_count": 87,
     "metadata": {},
     "output_type": "execute_result"
    }
   ],
   "source": [
    "dfX_new = dfX.groupby('Origin').filter(lambda x: len(x) >= 1000)\n",
    "df_delay = dfX_new[dfX_new.DepDelay > 0].Origin.value_counts().reset_index()\n",
    "df_delay.columns = ['Origin', 'DepDelay_counts']\n",
    "\n",
    "df = dfX_new.Origin.value_counts().reset_index()\n",
    "df.columns = ['Origin', 'Counts']\n",
    "\n",
    "df_delay = pd.merge(df_delay, df, how='left', on='Origin')\n",
    "\n",
    "df_delay['Delay_freq'] = df_delay.DepDelay_counts /  df_delay.Counts\n",
    "df_delay.ix[df_delay.Delay_freq.idxmax()]"
   ]
  },
  {
   "cell_type": "code",
   "execution_count": 82,
   "metadata": {
    "collapsed": false
   },
   "outputs": [
    {
     "data": {
      "text/html": [
       "<div>\n",
       "<table border=\"1\" class=\"dataframe\">\n",
       "  <thead>\n",
       "    <tr style=\"text-align: right;\">\n",
       "      <th></th>\n",
       "      <th>iata</th>\n",
       "      <th>airport</th>\n",
       "      <th>city</th>\n",
       "      <th>state</th>\n",
       "      <th>country</th>\n",
       "      <th>lat</th>\n",
       "      <th>long</th>\n",
       "    </tr>\n",
       "  </thead>\n",
       "  <tbody>\n",
       "    <tr>\n",
       "      <th>1247</th>\n",
       "      <td>DAL</td>\n",
       "      <td>Dallas Love</td>\n",
       "      <td>Dallas</td>\n",
       "      <td>TX</td>\n",
       "      <td>USA</td>\n",
       "      <td>32.847114</td>\n",
       "      <td>-96.851772</td>\n",
       "    </tr>\n",
       "  </tbody>\n",
       "</table>\n",
       "</div>"
      ],
      "text/plain": [
       "     iata       airport    city state country        lat       long\n",
       "1247  DAL  Dallas Love   Dallas    TX     USA  32.847114 -96.851772"
      ]
     },
     "execution_count": 82,
     "metadata": {},
     "output_type": "execute_result"
    }
   ],
   "source": [
    "air_info[air_info.iata=='DAL']"
   ]
  },
  {
   "cell_type": "markdown",
   "metadata": {},
   "source": [
    "Наибольшая доля задерженных рейсов у аэропорта Даллас / Лав-Филд, расположенного в штате Техас"
   ]
  },
  {
   "cell_type": "markdown",
   "metadata": {},
   "source": [
    "## Часть 2: метрические методы и категориальные признаки"
   ]
  },
  {
   "cell_type": "code",
   "execution_count": 3,
   "metadata": {
    "collapsed": true
   },
   "outputs": [],
   "source": [
    "from sklearn.cross_validation import train_test_split\n",
    "from counts_success import counts_successes\n",
    "\n",
    "def counts(data):\n",
    "    X_train, X_test, y_train, y_test = train_test_split(data.iloc[:, 1:], data.iloc[:, 0],\n",
    "                                                    test_size=0.3, random_state=241)\n",
    "    data_train = pd.concat([X_train, y_train], axis=1, join='inner')\n",
    "    data_test  = pd.concat([X_test, y_test], axis=1, join='inner')\n",
    "    \n",
    "    target = 'ACTION'\n",
    "    predictors = [col_name for col_name in data.columns if col_name != target]\n",
    "    \n",
    "    data_train_new, data_test_new = counts_successes(data_train, data_test, predictors, target)\n",
    "    new_predictors = [col_name for col_name in data_train_new.columns \\\n",
    "                                           if col_name not in predictors and col_name!=target]\n",
    "    return data_train_new, data_test_new, new_predictors"
   ]
  },
  {
   "cell_type": "code",
   "execution_count": 4,
   "metadata": {
    "collapsed": false
   },
   "outputs": [],
   "source": [
    "def counts_folds(data):\n",
    "    X_train, X_test, y_train, y_test = train_test_split(data.iloc[:, 1:], data.iloc[:, 0],\n",
    "                                                       test_size=0.3, random_state=241)\n",
    "    data_train = pd.concat([X_train, y_train], axis=1, join='inner')\n",
    "    data_test  = pd.concat([X_test, y_test], axis=1, join='inner')\n",
    "    kf = KFold(data_train.shape[0], 3)\n",
    "    \n",
    "    target = 'ACTION'\n",
    "    predictors = [col_name for col_name in data.columns if col_name != target] \n",
    "    list_smooth = [col_name + '_smooth' for col_name in predictors]\n",
    "    \n",
    "    data_train_new, data_test_new, new_predictors = counts(data)\n",
    "    norm_predictors = [col_name for col_name in new_predictors if col_name not in list_smooth]\n",
    "    \n",
    "    tmp = []\n",
    "    for i, j in kf:\n",
    "        _, data_new  = counts_successes(data_train.iloc[i], data_train.iloc[j],\n",
    "                                         predictors, target)\n",
    "        l = _.shape[0]\n",
    "        for col_name in norm_predictors:\n",
    "            data_new[col_name] /= l\n",
    "        tmp.append(data_new)\n",
    "    data_train_new = pd.concat([df for df in tmp])\n",
    "    \n",
    "    # Нормируем признаки на тесте\n",
    "    l = data_train.shape[0]\n",
    "    for col_name in norm_predictors:\n",
    "        data_test_new[col_name] /= l\n",
    "        \n",
    "    return data_train_new, data_test_new, new_predictors"
   ]
  },
  {
   "cell_type": "code",
   "execution_count": 3,
   "metadata": {
    "collapsed": false
   },
   "outputs": [
    {
     "name": "stdout",
     "output_type": "stream",
     "text": [
      "wget: /root/miniconda/envs/rep_py2/lib/libcrypto.so.1.0.0: no version information available (required by wget)\n",
      "wget: /root/miniconda/envs/rep_py2/lib/libssl.so.1.0.0: no version information available (required by wget)\n",
      "--2016-10-29 16:45:56--  https://www.dropbox.com/s/q6fbs1vvhd5kvek/amazon.csv\n",
      "Resolving www.dropbox.com (www.dropbox.com)... 162.125.80.1\n",
      "Connecting to www.dropbox.com (www.dropbox.com)|162.125.80.1|:443... connected.\n",
      "HTTP request sent, awaiting response... 302 Found\n",
      "Location: https://dl.dropboxusercontent.com/content_link/Xl6lIXfQRBLBmXi3cc6KfdglMyp4NimL10ZsRvaEfTeKLqvPrtWoEPgxJ5Gyl4ql/file [following]\n",
      "--2016-10-29 16:45:58--  https://dl.dropboxusercontent.com/content_link/Xl6lIXfQRBLBmXi3cc6KfdglMyp4NimL10ZsRvaEfTeKLqvPrtWoEPgxJ5Gyl4ql/file\n",
      "Resolving dl.dropboxusercontent.com (dl.dropboxusercontent.com)... 45.58.69.101\n",
      "Connecting to dl.dropboxusercontent.com (dl.dropboxusercontent.com)|45.58.69.101|:443... connected.\n",
      "HTTP request sent, awaiting response... 200 OK\n",
      "Length: 2037893 (1.9M) [text/csv]\n",
      "Saving to: 'amazon.csv'\n",
      "\n",
      "100%[======================================>] 2,037,893   1.65MB/s   in 1.2s   \n",
      "\n",
      "2016-10-29 16:46:00 (1.65 MB/s) - 'amazon.csv' saved [2037893/2037893]\n",
      "\n"
     ]
    }
   ],
   "source": [
    "!wget https://www.dropbox.com/s/q6fbs1vvhd5kvek/amazon.csv"
   ]
  },
  {
   "cell_type": "markdown",
   "metadata": {},
   "source": [
    "Все дальнейшие эксперименты предлагается проводить на данных соревнования Amazon Employee Access Challenge: https://www.kaggle.com/c/amazon-employee-access-challenge\n",
    "\n",
    "В данной задаче предлагается предсказать, будет ли одобрен запрос сотрудника на получение доступа к тому или иному ресурсу. Все признаки являются категориальными.\n",
    "\n",
    "Для удобства данные можно загрузить по ссылке: https://www.dropbox.com/s/q6fbs1vvhd5kvek/amazon.csv\n",
    "\n",
    "Сразу прочитаем данные и создадим разбиение на обучение и контроль:"
   ]
  },
  {
   "cell_type": "code",
   "execution_count": 5,
   "metadata": {
    "collapsed": false
   },
   "outputs": [
    {
     "data": {
      "text/html": [
       "<div>\n",
       "<table border=\"1\" class=\"dataframe\">\n",
       "  <thead>\n",
       "    <tr style=\"text-align: right;\">\n",
       "      <th></th>\n",
       "      <th>ACTION</th>\n",
       "      <th>RESOURCE</th>\n",
       "      <th>MGR_ID</th>\n",
       "      <th>ROLE_ROLLUP_1</th>\n",
       "      <th>ROLE_ROLLUP_2</th>\n",
       "      <th>ROLE_DEPTNAME</th>\n",
       "      <th>ROLE_TITLE</th>\n",
       "      <th>ROLE_FAMILY_DESC</th>\n",
       "      <th>ROLE_FAMILY</th>\n",
       "      <th>ROLE_CODE</th>\n",
       "    </tr>\n",
       "  </thead>\n",
       "  <tbody>\n",
       "    <tr>\n",
       "      <th>0</th>\n",
       "      <td>1</td>\n",
       "      <td>39353</td>\n",
       "      <td>85475</td>\n",
       "      <td>117961</td>\n",
       "      <td>118300</td>\n",
       "      <td>123472</td>\n",
       "      <td>117905</td>\n",
       "      <td>117906</td>\n",
       "      <td>290919</td>\n",
       "      <td>117908</td>\n",
       "    </tr>\n",
       "    <tr>\n",
       "      <th>1</th>\n",
       "      <td>1</td>\n",
       "      <td>17183</td>\n",
       "      <td>1540</td>\n",
       "      <td>117961</td>\n",
       "      <td>118343</td>\n",
       "      <td>123125</td>\n",
       "      <td>118536</td>\n",
       "      <td>118536</td>\n",
       "      <td>308574</td>\n",
       "      <td>118539</td>\n",
       "    </tr>\n",
       "    <tr>\n",
       "      <th>2</th>\n",
       "      <td>1</td>\n",
       "      <td>36724</td>\n",
       "      <td>14457</td>\n",
       "      <td>118219</td>\n",
       "      <td>118220</td>\n",
       "      <td>117884</td>\n",
       "      <td>117879</td>\n",
       "      <td>267952</td>\n",
       "      <td>19721</td>\n",
       "      <td>117880</td>\n",
       "    </tr>\n",
       "    <tr>\n",
       "      <th>3</th>\n",
       "      <td>1</td>\n",
       "      <td>36135</td>\n",
       "      <td>5396</td>\n",
       "      <td>117961</td>\n",
       "      <td>118343</td>\n",
       "      <td>119993</td>\n",
       "      <td>118321</td>\n",
       "      <td>240983</td>\n",
       "      <td>290919</td>\n",
       "      <td>118322</td>\n",
       "    </tr>\n",
       "    <tr>\n",
       "      <th>4</th>\n",
       "      <td>1</td>\n",
       "      <td>42680</td>\n",
       "      <td>5905</td>\n",
       "      <td>117929</td>\n",
       "      <td>117930</td>\n",
       "      <td>119569</td>\n",
       "      <td>119323</td>\n",
       "      <td>123932</td>\n",
       "      <td>19793</td>\n",
       "      <td>119325</td>\n",
       "    </tr>\n",
       "  </tbody>\n",
       "</table>\n",
       "</div>"
      ],
      "text/plain": [
       "   ACTION  RESOURCE  MGR_ID  ROLE_ROLLUP_1  ROLE_ROLLUP_2  ROLE_DEPTNAME  \\\n",
       "0       1     39353   85475         117961         118300         123472   \n",
       "1       1     17183    1540         117961         118343         123125   \n",
       "2       1     36724   14457         118219         118220         117884   \n",
       "3       1     36135    5396         117961         118343         119993   \n",
       "4       1     42680    5905         117929         117930         119569   \n",
       "\n",
       "   ROLE_TITLE  ROLE_FAMILY_DESC  ROLE_FAMILY  ROLE_CODE  \n",
       "0      117905            117906       290919     117908  \n",
       "1      118536            118536       308574     118539  \n",
       "2      117879            267952        19721     117880  \n",
       "3      118321            240983       290919     118322  \n",
       "4      119323            123932        19793     119325  "
      ]
     },
     "execution_count": 5,
     "metadata": {},
     "output_type": "execute_result"
    }
   ],
   "source": [
    "data = pd.read_csv('amazon.csv')\n",
    "data.head()"
   ]
  },
  {
   "cell_type": "code",
   "execution_count": 24,
   "metadata": {
    "collapsed": false
   },
   "outputs": [
    {
     "data": {
      "text/plain": [
       "(32769, 10)"
      ]
     },
     "execution_count": 24,
     "metadata": {},
     "output_type": "execute_result"
    }
   ],
   "source": [
    "data.shape"
   ]
  },
  {
   "cell_type": "code",
   "execution_count": 25,
   "metadata": {
    "collapsed": false
   },
   "outputs": [
    {
     "data": {
      "text/plain": [
       "0.94210992096188473"
      ]
     },
     "execution_count": 25,
     "metadata": {},
     "output_type": "execute_result"
    }
   ],
   "source": [
    "# доля положительных примеров\n",
    "data.ACTION.mean()"
   ]
  },
  {
   "cell_type": "code",
   "execution_count": 29,
   "metadata": {
    "collapsed": false
   },
   "outputs": [
    {
     "name": "stdout",
     "output_type": "stream",
     "text": [
      "ACTION 2\n",
      "RESOURCE 7518\n",
      "MGR_ID 4243\n",
      "ROLE_ROLLUP_1 128\n",
      "ROLE_ROLLUP_2 177\n",
      "ROLE_DEPTNAME 449\n",
      "ROLE_TITLE 343\n",
      "ROLE_FAMILY_DESC 2358\n",
      "ROLE_FAMILY 67\n",
      "ROLE_CODE 343\n"
     ]
    }
   ],
   "source": [
    "# число значений у признаков\n",
    "for col_name in data.columns:\n",
    "    print (col_name, len(data[col_name].unique()))"
   ]
  },
  {
   "cell_type": "code",
   "execution_count": 6,
   "metadata": {
    "collapsed": false
   },
   "outputs": [],
   "source": [
    "#Перекодируем значения каждого признака  от 0 до feature_n_unique_values\n",
    "target = 'ACTION'\n",
    "predictors = [col_name for col_name in data.columns if col_name != target]\n",
    "encoder = preprocessing.LabelEncoder()\n",
    "for col_name in predictors:\n",
    "        data[col_name] = encoder.fit_transform(data[col_name])"
   ]
  },
  {
   "cell_type": "code",
   "execution_count": 8,
   "metadata": {
    "collapsed": true
   },
   "outputs": [],
   "source": [
    "X_train, X_test, y_train, y_test = train_test_split(data.iloc[:, 1:], data.iloc[:, 0],\n",
    "                                                    test_size=0.3, random_state=241)"
   ]
  },
  {
   "cell_type": "markdown",
   "metadata": {},
   "source": [
    "#### 1. Реализуйте три функции расстояния на категориальных признаках, которые обсуждались на втором семинаре.\n",
    "\n",
    "Проще всего будет определить метрики как [user-defined distance](http://scikit-learn.org/stable/modules/generated/sklearn.neighbors.DistanceMetric.html), после чего воспользоваться реализацией kNN из sklearn (в этом случае используйте функцию predict_proba). Можно реализовать метод k ближайших соседей и самостоятально — в этом случае учитите, что он должен возвращать оценку вероятности, то есть отношение объектов первого класса среди соседей к числу соседей).\n",
    "\n",
    "Постарайтесь уделить особое внимание эффективности кода — при реализации метрик \"в лоб\" вы можете столкнуться с очень большим временем выполнения.\n",
    "\n",
    "#### Подсчитайте для каждой из метрик качество на тестовой выборке `X_test` при числе соседей $k = 10$. Мера качества — AUC-ROC.\n",
    "\n",
    "#### Какая функция расстояния оказалась лучшей?"
   ]
  },
  {
   "cell_type": "markdown",
   "metadata": {},
   "source": [
    "Воспользуемся собственной реализиацей всех нужных метрик"
   ]
  },
  {
   "cell_type": "code",
   "execution_count": 5,
   "metadata": {
    "collapsed": true
   },
   "outputs": [],
   "source": [
    "from metrics import Dist\n",
    "dist = Dist(X_train)"
   ]
  },
  {
   "cell_type": "markdown",
   "metadata": {},
   "source": [
    "Перевернем все в numpy.array для ускорения работы"
   ]
  },
  {
   "cell_type": "code",
   "execution_count": 13,
   "metadata": {
    "collapsed": true
   },
   "outputs": [],
   "source": [
    "X_train_arr, y_train_arr = X_train.as_matrix(),  y_train.as_matrix().astype(int)\n",
    "X_test_arr, y_test_arr  = X_test.as_matrix(), y_test.as_matrix().astype(int)"
   ]
  },
  {
   "cell_type": "markdown",
   "metadata": {},
   "source": [
    "Чтобы не скучать, будем слать себе сообщения о текущем состоянии дел)\n"
   ]
  },
  {
   "cell_type": "code",
   "execution_count": null,
   "metadata": {
    "collapsed": true
   },
   "outputs": [],
   "source": [
    "%%bash\n",
    "git clone https://github.com/soboleva-daria/pyloggers.git\n",
    "cd pyloggers/ && git pull"
   ]
  },
  {
   "cell_type": "code",
   "execution_count": 7,
   "metadata": {
    "collapsed": false
   },
   "outputs": [],
   "source": [
    "import sys\n",
    "sys.path.insert(1,'pyloggers')\n",
    "from telegram_logger import TelegramLogger\n",
    "tl = TelegramLogger(name='knn', print_dual_logging=False)"
   ]
  },
  {
   "cell_type": "code",
   "execution_count": null,
   "metadata": {
    "collapsed": true
   },
   "outputs": [],
   "source": [
    "knn = KNeighborsClassifier(\n",
    "    n_neighbors=10,\n",
    "    metric=dist.ind_matches,\n",
    "    algorithm='brute',\n",
    ").fit(X_train_arr, y_train_arr)\n",
    "\n",
    "scores = knn.predict_proba(X_test_arr[:1000, :])\n",
    "tl.push('done0')\n",
    "\n",
    "for i in range(1, 10):\n",
    "    y_pred = knn.predict_proba(X_test_arr[i*1000: (i+1)*1000, :])\n",
    "    scores = np.vstack((scores, y_pred))\n",
    "    tl.push('done{}'.format(i))"
   ]
  },
  {
   "cell_type": "code",
   "execution_count": 9,
   "metadata": {
    "collapsed": false
   },
   "outputs": [],
   "source": [
    "results = {}\n",
    "results['metric_ind_matches'] = {'AUC-ROC': roc_auc_score (y_test_arr, scores[:, 1])}"
   ]
  },
  {
   "cell_type": "code",
   "execution_count": null,
   "metadata": {
    "collapsed": true
   },
   "outputs": [],
   "source": [
    "knn = KNeighborsClassifier(\n",
    "    n_neighbors=10,\n",
    "    metric=dist.smooth_ind_matches,\n",
    "    algorithm='brute',\n",
    ").fit(X_train_arr, y_train_arr)\n",
    "\n",
    "scores = knn.predict_proba(X_test_arr[:1000, :])\n",
    "tl.push('done0')\n",
    "\n",
    "for i in range(1, 10):\n",
    "    y_pred = knn.predict_proba(X_test_arr[i*1000: (i+1)*1000, :])\n",
    "    scores = np.vstack((scores, y_pred))\n",
    "    tl.push('done{}'.format(i))"
   ]
  },
  {
   "cell_type": "code",
   "execution_count": 22,
   "metadata": {
    "collapsed": true
   },
   "outputs": [],
   "source": [
    "results['metric_smooth_ind_matches'] = {'AUC-ROC': roc_auc_score (y_test_arr, scores[:, 1])}"
   ]
  },
  {
   "cell_type": "code",
   "execution_count": null,
   "metadata": {
    "collapsed": true
   },
   "outputs": [],
   "source": [
    "knn = KNeighborsClassifier(\n",
    "    n_neighbors=10,\n",
    "    metric=dist.log_ind_matches,\n",
    "    algorithm='brute'\n",
    ").fit(X_train_arr, y_train_arr)\n",
    "\n",
    "scores = knn.predict_proba(X_test_arr[:1000, :])\n",
    "tl.push('done0')\n",
    "\n",
    "for i in range(1, 10):\n",
    "    y_pred = knn.predict_proba(X_test_arr[i*1000: (i+1)*1000, :])\n",
    "    scores = np.vstack((scores, y_pred))\n",
    "    tl.push('done{}'.format(i))"
   ]
  },
  {
   "cell_type": "code",
   "execution_count": 29,
   "metadata": {
    "collapsed": true
   },
   "outputs": [],
   "source": [
    "results['metric_log_ind_matches'] = {'AUC-ROC': roc_auc_score (y_test_arr, scores[:, 1])}"
   ]
  },
  {
   "cell_type": "code",
   "execution_count": 45,
   "metadata": {
    "collapsed": false
   },
   "outputs": [
    {
     "data": {
      "text/html": [
       "<div>\n",
       "<table border=\"1\" class=\"dataframe\">\n",
       "  <thead>\n",
       "    <tr style=\"text-align: right;\">\n",
       "      <th></th>\n",
       "      <th>AUC-ROC</th>\n",
       "    </tr>\n",
       "  </thead>\n",
       "  <tbody>\n",
       "    <tr>\n",
       "      <th>metric_ind_matches</th>\n",
       "      <td>0.829499</td>\n",
       "    </tr>\n",
       "    <tr>\n",
       "      <th>metric_log_ind_matches</th>\n",
       "      <td>0.809719</td>\n",
       "    </tr>\n",
       "    <tr>\n",
       "      <th>metric_smooth_ind_matches</th>\n",
       "      <td>0.833112</td>\n",
       "    </tr>\n",
       "  </tbody>\n",
       "</table>\n",
       "</div>"
      ],
      "text/plain": [
       "                            AUC-ROC\n",
       "metric_ind_matches         0.829499\n",
       "metric_log_ind_matches     0.809719\n",
       "metric_smooth_ind_matches  0.833112"
      ]
     },
     "execution_count": 45,
     "metadata": {},
     "output_type": "execute_result"
    }
   ],
   "source": [
    "pd.DataFrame(results).T"
   ]
  },
  {
   "cell_type": "markdown",
   "metadata": {},
   "source": [
    "Лучшим оказалась модель, использующая сглаженный индикатор совпадения."
   ]
  },
  {
   "cell_type": "markdown",
   "metadata": {},
   "source": [
    "#### 2 (бонус). Подберите лучшее (на тестовой выборке) число соседей $k$ для каждой из функций расстояния. Какое наилучшее качество удалось получить?\n",
    "\n",
    "Для подбора можно использовать любые средства из sklearn."
   ]
  },
  {
   "cell_type": "markdown",
   "metadata": {
    "collapsed": true
   },
   "source": [
    "Подберем k для каждой метрики.\n",
    "Так как у нас задача бинарной классификации, имеет смысл брать нечетный k"
   ]
  },
  {
   "cell_type": "code",
   "execution_count": 5,
   "metadata": {
    "collapsed": true
   },
   "outputs": [],
   "source": [
    "results_k = {}"
   ]
  },
  {
   "cell_type": "code",
   "execution_count": null,
   "metadata": {
    "collapsed": true
   },
   "outputs": [],
   "source": [
    "for k in range(3,11,2):\n",
    "    knn = KNeighborsClassifier(\n",
    "          n_neighbors=k,\n",
    "          metric=dist.ind_matches,\n",
    "          algorithm='brute',\n",
    "    ).fit(X_train_arr, y_train_arr)\n",
    "    \n",
    "    results_k['n_neighbors={}'.format(k)] = {'AUC-ROC': roc_auc_score (y_test_arr, knn.predict_proba(X_test_arr)[:, 1])}\n",
    "    tl.push('done{}'.format(k))"
   ]
  },
  {
   "cell_type": "code",
   "execution_count": 44,
   "metadata": {
    "collapsed": false
   },
   "outputs": [
    {
     "data": {
      "text/html": [
       "<div>\n",
       "<table border=\"1\" class=\"dataframe\">\n",
       "  <thead>\n",
       "    <tr style=\"text-align: right;\">\n",
       "      <th></th>\n",
       "      <th>AUC-ROC</th>\n",
       "    </tr>\n",
       "  </thead>\n",
       "  <tbody>\n",
       "    <tr>\n",
       "      <th>n_neighbors=3</th>\n",
       "      <td>0.796849</td>\n",
       "    </tr>\n",
       "    <tr>\n",
       "      <th>n_neighbors=5</th>\n",
       "      <td>0.825477</td>\n",
       "    </tr>\n",
       "    <tr>\n",
       "      <th>n_neighbors=7</th>\n",
       "      <td>0.836309</td>\n",
       "    </tr>\n",
       "    <tr>\n",
       "      <th>n_neighbors=9</th>\n",
       "      <td>0.831382</td>\n",
       "    </tr>\n",
       "  </tbody>\n",
       "</table>\n",
       "</div>"
      ],
      "text/plain": [
       "                AUC-ROC\n",
       "n_neighbors=3  0.796849\n",
       "n_neighbors=5  0.825477\n",
       "n_neighbors=7  0.836309\n",
       "n_neighbors=9  0.831382"
      ]
     },
     "execution_count": 44,
     "metadata": {},
     "output_type": "execute_result"
    }
   ],
   "source": [
    "pd.DataFrame(results_k).T"
   ]
  },
  {
   "cell_type": "markdown",
   "metadata": {},
   "source": [
    "Модель с  k=7 оказалась лучшей"
   ]
  },
  {
   "cell_type": "code",
   "execution_count": null,
   "metadata": {
    "collapsed": true
   },
   "outputs": [],
   "source": [
    "for k in range(3,11,2):\n",
    "    knn = KNeighborsClassifier(\n",
    "          n_neighbors=k,\n",
    "          metric=dist.smooth_ind_matches,\n",
    "          algorithm='brute',\n",
    "    ).fit(X_train_arr, y_train_arr)\n",
    "    \n",
    "    results_k['n_neighbors={}'.format(k)] = {'AUC-ROC': roc_auc_score (y_test_arr, knn.predict_proba(X_test_arr)[:, 1])}\n",
    "    tl.push('done{}'.format(k))"
   ]
  },
  {
   "cell_type": "code",
   "execution_count": 46,
   "metadata": {
    "collapsed": false
   },
   "outputs": [
    {
     "data": {
      "text/html": [
       "<div>\n",
       "<table border=\"1\" class=\"dataframe\">\n",
       "  <thead>\n",
       "    <tr style=\"text-align: right;\">\n",
       "      <th></th>\n",
       "      <th>AUC-ROC</th>\n",
       "    </tr>\n",
       "  </thead>\n",
       "  <tbody>\n",
       "    <tr>\n",
       "      <th>n_neighbors=3</th>\n",
       "      <td>0.799776</td>\n",
       "    </tr>\n",
       "    <tr>\n",
       "      <th>n_neighbors=5</th>\n",
       "      <td>0.830632</td>\n",
       "    </tr>\n",
       "    <tr>\n",
       "      <th>n_neighbors=7</th>\n",
       "      <td>0.834261</td>\n",
       "    </tr>\n",
       "    <tr>\n",
       "      <th>n_neighbors=9</th>\n",
       "      <td>0.830936</td>\n",
       "    </tr>\n",
       "  </tbody>\n",
       "</table>\n",
       "</div>"
      ],
      "text/plain": [
       "                AUC-ROC\n",
       "n_neighbors=3  0.799776\n",
       "n_neighbors=5  0.830632\n",
       "n_neighbors=7  0.834261\n",
       "n_neighbors=9  0.830936"
      ]
     },
     "execution_count": 46,
     "metadata": {},
     "output_type": "execute_result"
    }
   ],
   "source": [
    "pd.DataFrame(results_k).T"
   ]
  },
  {
   "cell_type": "markdown",
   "metadata": {},
   "source": [
    "Модель с k=7 снова оказалась лучшей"
   ]
  },
  {
   "cell_type": "code",
   "execution_count": null,
   "metadata": {
    "collapsed": true
   },
   "outputs": [],
   "source": [
    "for k in range(3,11,2):\n",
    "    knn = KNeighborsClassifier(\n",
    "          n_neighbors=k,\n",
    "          metric=dist.log_ind_matches,\n",
    "          algorithm='brute',\n",
    "    ).fit(X_train_arr, y_train_arr)\n",
    "    \n",
    "    results_k['n_neighbors={}'.format(k)] = {'AUC-ROC': roc_auc_score (y_test_arr, knn.predict_proba(X_test_arr)[:, 1])}\n",
    "    tl.push('done{}'.format(k))"
   ]
  },
  {
   "cell_type": "code",
   "execution_count": 47,
   "metadata": {
    "collapsed": false
   },
   "outputs": [
    {
     "data": {
      "text/html": [
       "<div>\n",
       "<table border=\"1\" class=\"dataframe\">\n",
       "  <thead>\n",
       "    <tr style=\"text-align: right;\">\n",
       "      <th></th>\n",
       "      <th>AUC-ROC</th>\n",
       "    </tr>\n",
       "  </thead>\n",
       "  <tbody>\n",
       "    <tr>\n",
       "      <th>n_neighbors=3</th>\n",
       "      <td>0.773867</td>\n",
       "    </tr>\n",
       "    <tr>\n",
       "      <th>n_neighbors=5</th>\n",
       "      <td>0.799875</td>\n",
       "    </tr>\n",
       "    <tr>\n",
       "      <th>n_neighbors=7</th>\n",
       "      <td>0.804365</td>\n",
       "    </tr>\n",
       "    <tr>\n",
       "      <th>n_neighbors=9</th>\n",
       "      <td>0.807482</td>\n",
       "    </tr>\n",
       "  </tbody>\n",
       "</table>\n",
       "</div>"
      ],
      "text/plain": [
       "                AUC-ROC\n",
       "n_neighbors=3  0.773867\n",
       "n_neighbors=5  0.799875\n",
       "n_neighbors=7  0.804365\n",
       "n_neighbors=9  0.807482"
      ]
     },
     "execution_count": 47,
     "metadata": {},
     "output_type": "execute_result"
    }
   ],
   "source": [
    "pd.DataFrame(results_k).T"
   ]
  },
  {
   "cell_type": "markdown",
   "metadata": {},
   "source": [
    "k=9 дало лучший результат, необходимо оценить модель с k=11."
   ]
  },
  {
   "cell_type": "code",
   "execution_count": null,
   "metadata": {
    "collapsed": true
   },
   "outputs": [],
   "source": [
    "k = 11\n",
    "knn = KNeighborsClassifier(\n",
    "          n_neighbors=k,\n",
    "          metric=dist.log_ind_matches,\n",
    "          algorithm='brute',\n",
    "    ).fit(X_train_arr, y_train_arr)\n",
    "    \n",
    "results_k['n_neighbors={}'.format(k)] = {'AUC-ROC': roc_auc_score (y_test_arr, knn.predict_proba(X_test_arr)[:, 1])}\n",
    "tl.push('done{}'.format(k))"
   ]
  },
  {
   "cell_type": "code",
   "execution_count": 44,
   "metadata": {
    "collapsed": false
   },
   "outputs": [
    {
     "data": {
      "text/html": [
       "<div>\n",
       "<table border=\"1\" class=\"dataframe\">\n",
       "  <thead>\n",
       "    <tr style=\"text-align: right;\">\n",
       "      <th></th>\n",
       "      <th>AUC-ROC</th>\n",
       "    </tr>\n",
       "  </thead>\n",
       "  <tbody>\n",
       "    <tr>\n",
       "      <th>n_neighbors=11</th>\n",
       "      <td>0.807443</td>\n",
       "    </tr>\n",
       "    <tr>\n",
       "      <th>n_neighbors=3</th>\n",
       "      <td>0.773867</td>\n",
       "    </tr>\n",
       "    <tr>\n",
       "      <th>n_neighbors=5</th>\n",
       "      <td>0.799875</td>\n",
       "    </tr>\n",
       "    <tr>\n",
       "      <th>n_neighbors=7</th>\n",
       "      <td>0.804365</td>\n",
       "    </tr>\n",
       "    <tr>\n",
       "      <th>n_neighbors=9</th>\n",
       "      <td>0.807482</td>\n",
       "    </tr>\n",
       "  </tbody>\n",
       "</table>\n",
       "</div>"
      ],
      "text/plain": [
       "                 AUC-ROC\n",
       "n_neighbors=11  0.807443\n",
       "n_neighbors=3   0.773867\n",
       "n_neighbors=5   0.799875\n",
       "n_neighbors=7   0.804365\n",
       "n_neighbors=9   0.807482"
      ]
     },
     "execution_count": 44,
     "metadata": {},
     "output_type": "execute_result"
    }
   ],
   "source": [
    "pd.DataFrame(results_k).T"
   ]
  },
  {
   "cell_type": "markdown",
   "metadata": {},
   "source": [
    "Модель с k=9 оказалась лучшей."
   ]
  },
  {
   "cell_type": "markdown",
   "metadata": {},
   "source": [
    "Лучшей по-прежнему остается модель, использующая сглаженный индикатор совпадения.\n",
    "\n",
    "Подобран k=7, при котором AUC-ROC=0.834261"
   ]
  },
  {
   "cell_type": "markdown",
   "metadata": {},
   "source": [
    "#### 3. Реализуйте счетчики (http://blogs.technet.com/b/machinelearning/archive/2015/02/17/big-learning-made-easy-with-counts.aspx), которые заменят категориальные признаки на вещественные.\n",
    "\n",
    "А именно, каждый категориальный признак нужно заменить на три: \n",
    "1. Число `counts` объектов в обучающей выборке с таким же значением признака.\n",
    "2. Число `successes` объектов первого класса ($y = 1$) в обучающей выборке с таким же значением признака.\n",
    "3. Сглаженное отношение двух предыдущих величин: (`successes` + 1) / (`counts` + 2).\n",
    "\n",
    "Поскольку признаки, содержащие информацию о целевой переменной, могут привести к переобучению, может оказаться полезным сделать *фолдинг*: разбить обучающую выборку на $n$ частей, и для $i$-й части считать `counts` и `successes` по всем остальным частям. Для тестовой выборки используются счетчики, посчитанные по всей обучающей выборке. Реализуйте и такой вариант. Можно использовать $n = 3$.\n",
    "\n",
    "#### Посчитайте на тесте AUC-ROC метода $k$ ближайших соседей с евклидовой метрикой для выборки, где категориальные признаки заменены на счетчики. Сравните по AUC-ROC два варианта формирования выборки — с фолдингом и без. Не забудьте подобрать наилучшее число соседей $k$."
   ]
  },
  {
   "cell_type": "markdown",
   "metadata": {},
   "source": [
    "Воспользуемся функцией counts, которая подсчитывает нужные признаки для трейна и теста.\n",
    "\n",
    "Для теста информация берется из трейна!"
   ]
  },
  {
   "cell_type": "code",
   "execution_count": null,
   "metadata": {
    "collapsed": true
   },
   "outputs": [],
   "source": [
    "data_train_new, data_test_new, new_predictors = counts(data)"
   ]
  },
  {
   "cell_type": "markdown",
   "metadata": {},
   "source": [
    "Подберем оптимальный k на тестовой выборке. Способ без фолдинга."
   ]
  },
  {
   "cell_type": "code",
   "execution_count": 11,
   "metadata": {
    "collapsed": false
   },
   "outputs": [
    {
     "data": {
      "image/png": "[encoded data removed]",
      "text/plain": [
       "<matplotlib.figure.Figure at 0x7f9f14986a20>"
      ]
     },
     "metadata": {},
     "output_type": "display_data"
    }
   ],
   "source": [
    "results_cv = []\n",
    "plt.figure(figsize=(6,5))\n",
    "plt.xlabel(\"k\", fontsize = 18)\n",
    "plt.ylabel('AUC-ROC', fontsize = 18)\n",
    "\n",
    "k_list = list(range(3,21,2))\n",
    "for k in k_list:\n",
    "    knn = KNeighborsClassifier(\n",
    "          n_neighbors=k,\n",
    "          metric='euclidean',\n",
    "          algorithm='brute',\n",
    "    ).fit(data_train_new[new_predictors], data_train_new[target])\n",
    "    \n",
    "    results_cv.append(roc_auc_score (data_test_new[target], \\\n",
    "                                     knn.predict_proba(data_test_new[new_predictors])[:, 1]))\n",
    "plot(k_list, results_cv, lw = 3, marker='*', markersize=20, color = 'magenta')\n",
    "show()"
   ]
  },
  {
   "cell_type": "markdown",
   "metadata": {},
   "source": [
    "В расммотренном диапазоне изменения параметра k выявили оптиум: k=15"
   ]
  },
  {
   "cell_type": "markdown",
   "metadata": {
    "collapsed": true
   },
   "source": [
    "Оценим вариант с фолдингом."
   ]
  },
  {
   "cell_type": "code",
   "execution_count": null,
   "metadata": {
    "collapsed": true
   },
   "outputs": [],
   "source": [
    "data_train_new, data_test_new, new_predictors = counts_folds(data)"
   ]
  },
  {
   "cell_type": "code",
   "execution_count": 13,
   "metadata": {
    "collapsed": false
   },
   "outputs": [
    {
     "data": {
      "image/png": "[encoded data removed]",
      "text/plain": [
       "<matplotlib.figure.Figure at 0x7f8578b5d828>"
      ]
     },
     "metadata": {},
     "output_type": "display_data"
    }
   ],
   "source": [
    "results_cv = []\n",
    "plt.figure(figsize=(6,5))\n",
    "plt.xlabel(\"k\", fontsize = 18)\n",
    "plt.ylabel('AUC-ROC', fontsize = 18)\n",
    "\n",
    "k_list = list(range(3,29,2))\n",
    "for k in k_list:\n",
    "    knn = KNeighborsClassifier(\n",
    "          n_neighbors=k,\n",
    "          metric='euclidean',\n",
    "          algorithm='brute',\n",
    "    ).fit(data_train_new[new_predictors], data_train_new[target])\n",
    "    \n",
    "    results_cv.append(roc_auc_score (data_test_new[target], \\\n",
    "                                     knn.predict_proba(data_test_new[new_predictors])[:, 1]))\n",
    "plot(k_list, results_cv, lw = 3, marker='*', markersize=20, color = 'magenta')\n",
    "show()"
   ]
  },
  {
   "cell_type": "markdown",
   "metadata": {},
   "source": [
    "Итак, оптиум достигается при k=23.\n",
    "\n",
    "В целом обощающая способность улучшается, модель ведет себя более адекватно, чем без использования фолдинга."
   ]
  },
  {
   "cell_type": "markdown",
   "metadata": {},
   "source": [
    "#### 4. Добавьте в исходную выборку парные признаки — то есть для каждой пары $(f_i, f_j)$, $i < j$ исходных категориальных признаков добавьте новый категориальный признак $f_{ij}$, значение которого является конкатенацией значений $f_i$ и $f_j$ (желательно через какой-нибудь специальный символ во избежание коллизий). Посчитайте счетчики для этой выборки, найдите качество метода $k$ ближайших соседей с наилучшим $k$ (с фолдингом и без)."
   ]
  },
  {
   "cell_type": "code",
   "execution_count": 7,
   "metadata": {
    "collapsed": true
   },
   "outputs": [],
   "source": [
    "# Специальный символ #\n",
    "data_new = data.copy()\n",
    "columns = np.array(predictors)\n",
    "for i, col_name in enumerate(columns):\n",
    "    col_1 = data_new[col_name]\n",
    "    for col_name_ in columns[i + 1:]:\n",
    "        col_2 = data_new[col_name_]\n",
    "        data_new[col_name + '#' + col_name_] = \\\n",
    "                        col_1.astype(str) + '#' + col_2.astype(str)\n",
    "predictors = [col_name for col_name in data_new.columns if col_name != target]"
   ]
  },
  {
   "cell_type": "markdown",
   "metadata": {},
   "source": [
    "Вариант без фолдинга"
   ]
  },
  {
   "cell_type": "code",
   "execution_count": null,
   "metadata": {
    "collapsed": true
   },
   "outputs": [],
   "source": [
    "data_train_new, data_test_new, new_predictors = counts(data_new)"
   ]
  },
  {
   "cell_type": "code",
   "execution_count": 23,
   "metadata": {
    "collapsed": false
   },
   "outputs": [
    {
     "data": {
      "image/png": "[encoded data removed]",
      "text/plain": [
       "<matplotlib.figure.Figure at 0x7f8574d9d780>"
      ]
     },
     "metadata": {},
     "output_type": "display_data"
    }
   ],
   "source": [
    "results_cv = []\n",
    "plt.figure(figsize=(6,5))\n",
    "plt.xlabel(\"k\", fontsize = 18)\n",
    "plt.ylabel('AUC-ROC', fontsize = 18)\n",
    "\n",
    "k_list = list(range(3,13,2))\n",
    "for k in k_list:\n",
    "    knn = KNeighborsClassifier(\n",
    "          n_neighbors=k,\n",
    "          metric='euclidean',\n",
    "          algorithm='brute',\n",
    "    ).fit(data_train_new[new_predictors], data_train_new[target])\n",
    "    \n",
    "    results_cv.append(roc_auc_score (data_test_new[target], \\\n",
    "                                     knn.predict_proba(data_test_new[new_predictors])[:, 1]))\n",
    "plot(k_list, results_cv, lw = 3, marker='*', markersize=20, color = 'magenta')\n",
    "show()"
   ]
  },
  {
   "cell_type": "markdown",
   "metadata": {},
   "source": [
    "Заметим, что качество стало лучше после добавления новых признаков.\n",
    "Оптиум достигнут уже при k=9."
   ]
  },
  {
   "cell_type": "markdown",
   "metadata": {},
   "source": [
    "Посмотрим на фолдинг."
   ]
  },
  {
   "cell_type": "code",
   "execution_count": null,
   "metadata": {
    "collapsed": true
   },
   "outputs": [],
   "source": [
    "data_train_new, data_test_new, new_predictors = counts_folds(data_new)"
   ]
  },
  {
   "cell_type": "code",
   "execution_count": 42,
   "metadata": {
    "collapsed": false
   },
   "outputs": [
    {
     "data": {
      "image/png": "[encoded data removed]",
      "text/plain": [
       "<matplotlib.figure.Figure at 0x7f8578d8b048>"
      ]
     },
     "metadata": {},
     "output_type": "display_data"
    }
   ],
   "source": [
    "results_cv = []\n",
    "plt.figure(figsize=(6,5))\n",
    "plt.xlabel(\"k\", fontsize = 18)\n",
    "plt.ylabel('AUC-ROC', fontsize = 18)\n",
    "\n",
    "k_list = list(range(3,37,2))\n",
    "for k in k_list:\n",
    "    knn = KNeighborsClassifier(\n",
    "          n_neighbors=k,\n",
    "          metric='euclidean',\n",
    "          algorithm='brute',\n",
    "    ).fit(data_train_new[new_predictors], data_train_new[target])\n",
    "    \n",
    "    results_cv.append(roc_auc_score (data_test_new[target], \\\n",
    "                                     knn.predict_proba(data_test_new[new_predictors])[:, 1]))\n",
    "plot(k_list, results_cv, lw = 3, marker='*', markersize=20, color = 'magenta')\n",
    "show()"
   ]
  },
  {
   "cell_type": "markdown",
   "metadata": {},
   "source": [
    "Достигнут долгожданный локальный оптиум при k=33"
   ]
  },
  {
   "cell_type": "markdown",
   "metadata": {},
   "source": [
    "## Часть 3: Решающие деревья и леса"
   ]
  },
  {
   "cell_type": "markdown",
   "metadata": {},
   "source": [
    "#### 1. Возьмите из предыдущей части выборку с парными признаками, преобразованную с помощью счетчиков без фолдинга. Настройте решающее дерево, подобрав оптимальные значения параметров `max_depth` и `min_samples_leaf`. Какой наилучший AUC-ROC на контроле удалось получить?"
   ]
  },
  {
   "cell_type": "code",
   "execution_count": 8,
   "metadata": {
    "collapsed": true
   },
   "outputs": [],
   "source": [
    "def modelfit(alg, dtrain, dtest,  predictors, target):\n",
    "    \n",
    "    #Fit the algorithm on the data\n",
    "    alg.fit(dtrain[predictors], dtrain[target])\n",
    "        \n",
    "    #Predict training set:\n",
    "    dtrain_predictions = alg.predict(dtrain[predictors])\n",
    "    dtest_predictions = alg.predict(dtest[predictors])\n",
    "        \n",
    "    #Print model report:\n",
    "    print (\"\\nModel Report\")\n",
    "    print (\"AUC (Train): %f\" % roc_auc_score(dtrain[target], dtrain_predictions) )\n",
    "    print (\"AUC (Test): %f\" %  roc_auc_score(dtest[target],   dtest_predictions ) )"
   ]
  },
  {
   "cell_type": "code",
   "execution_count": 30,
   "metadata": {
    "collapsed": false
   },
   "outputs": [],
   "source": [
    "def modelfit_xgb(alg, dtrain, dtest, predictors, target, \n",
    "                 useTrainCV=True, cv_folds=5, early_stopping_rounds=50):\n",
    "    \n",
    "    if useTrainCV:\n",
    "        xgb_param = alg.get_xgb_params()\n",
    "        xgtrain = xgb.DMatrix(dtrain[predictors].values, label=dtrain[target].values)\n",
    "        cvresult = xgb.cv(xgb_param, xgtrain, num_boost_round=alg.get_params()['n_estimators'], nfold=cv_folds,\n",
    "             metrics=['auc'], early_stopping_rounds=early_stopping_rounds, show_progress=False)\n",
    "        alg.set_params(n_estimators=cvresult.shape[0])\n",
    "        \n",
    "    #Fit the algorithm on the data\n",
    "    alg.fit(dtrain[predictors], dtrain[target], eval_metric='auc')\n",
    "        \n",
    "    #Predict training set:\n",
    "    dtrain_predictions = alg.predict(dtrain[predictors])\n",
    "    dtest_predictions = alg.predict(dtest[predictors])\n",
    "        \n",
    "    #Print model report:\n",
    "    print (\"\\nModel Report\")\n",
    "    print (\"AUC (Train): %f\" % roc_auc_score(dtrain[target], dtrain_predictions) )\n",
    "    print (\"AUC (Test): %f\" %  roc_auc_score(dtest[target],   dtest_predictions ) )\n",
    "    \n",
    "    feat_imp = pd.Series(alg.booster().get_fscore()).sort_values(ascending=False)\n",
    "    feat_imp.plot(kind='bar', title='Feature Importances')\n",
    "    plt.ylabel('Feature Importance Score')"
   ]
  },
  {
   "cell_type": "code",
   "execution_count": 10,
   "metadata": {
    "collapsed": true
   },
   "outputs": [],
   "source": [
    "from sklearn.tree import DecisionTreeClassifier\n",
    "from sklearn.grid_search import GridSearchCV"
   ]
  },
  {
   "cell_type": "code",
   "execution_count": 11,
   "metadata": {
    "collapsed": false
   },
   "outputs": [],
   "source": [
    "data_train_new, data_test_new, new_predictors = counts(data_new)"
   ]
  },
  {
   "cell_type": "markdown",
   "metadata": {},
   "source": [
    "Так как индекс Джини связан с AUC известной формулой ($Gini = 2 * AUCROC-1$)."
   ]
  },
  {
   "cell_type": "code",
   "execution_count": 100,
   "metadata": {
    "collapsed": false
   },
   "outputs": [
    {
     "name": "stdout",
     "output_type": "stream",
     "text": [
      "\n",
      "Model Report\n",
      "AUC (Train): 0.994406\n",
      "AUC (Test): 0.534473\n"
     ]
    }
   ],
   "source": [
    "dtr = DecisionTreeClassifier(max_depth=3, \n",
    "                             min_samples_leaf=1,\n",
    "                             random_state=10,\n",
    "                             criterion='gini'\n",
    "                        )\n",
    "modelfit(dtr, data_train_new, data_test_new, new_predictors, target)"
   ]
  },
  {
   "cell_type": "markdown",
   "metadata": {},
   "source": [
    "Видим, что модель сильно переобучена, попробуем уменьшить разрыв между ошибкой на тесте и трейне."
   ]
  },
  {
   "cell_type": "markdown",
   "metadata": {},
   "source": [
    "В виду того, что рассматривается задача с несбалансированными классами, min_samples_leaf\n",
    "должен быть не очень большим.\n",
    "\n",
    "Выберем лучшие параметры по кросс-валидации с 5 фолдами."
   ]
  },
  {
   "cell_type": "code",
   "execution_count": 104,
   "metadata": {
    "collapsed": false
   },
   "outputs": [
    {
     "data": {
      "text/plain": [
       "([mean: 0.99829, std: 0.00318, params: {'max_depth': 3, 'min_samples_leaf': 100},\n",
       "  mean: 0.99809, std: 0.00319, params: {'max_depth': 3, 'min_samples_leaf': 150},\n",
       "  mean: 0.99790, std: 0.00322, params: {'max_depth': 3, 'min_samples_leaf': 200},\n",
       "  mean: 0.99842, std: 0.00173, params: {'max_depth': 3, 'min_samples_leaf': 250},\n",
       "  mean: 0.99837, std: 0.00171, params: {'max_depth': 3, 'min_samples_leaf': 300},\n",
       "  mean: 0.99739, std: 0.00128, params: {'max_depth': 3, 'min_samples_leaf': 350},\n",
       "  mean: 0.99552, std: 0.00329, params: {'max_depth': 3, 'min_samples_leaf': 400},\n",
       "  mean: 0.99690, std: 0.00118, params: {'max_depth': 3, 'min_samples_leaf': 450},\n",
       "  mean: 0.99829, std: 0.00318, params: {'max_depth': 4, 'min_samples_leaf': 100},\n",
       "  mean: 0.99811, std: 0.00320, params: {'max_depth': 4, 'min_samples_leaf': 150},\n",
       "  mean: 0.99793, std: 0.00324, params: {'max_depth': 4, 'min_samples_leaf': 200},\n",
       "  mean: 0.99844, std: 0.00175, params: {'max_depth': 4, 'min_samples_leaf': 250},\n",
       "  mean: 0.99837, std: 0.00171, params: {'max_depth': 4, 'min_samples_leaf': 300},\n",
       "  mean: 0.99700, std: 0.00196, params: {'max_depth': 4, 'min_samples_leaf': 350},\n",
       "  mean: 0.99631, std: 0.00251, params: {'max_depth': 4, 'min_samples_leaf': 400},\n",
       "  mean: 0.99822, std: 0.00046, params: {'max_depth': 4, 'min_samples_leaf': 450},\n",
       "  mean: 0.99829, std: 0.00318, params: {'max_depth': 5, 'min_samples_leaf': 100},\n",
       "  mean: 0.99811, std: 0.00320, params: {'max_depth': 5, 'min_samples_leaf': 150},\n",
       "  mean: 0.99793, std: 0.00324, params: {'max_depth': 5, 'min_samples_leaf': 200},\n",
       "  mean: 0.99844, std: 0.00175, params: {'max_depth': 5, 'min_samples_leaf': 250},\n",
       "  mean: 0.99837, std: 0.00171, params: {'max_depth': 5, 'min_samples_leaf': 300},\n",
       "  mean: 0.99652, std: 0.00172, params: {'max_depth': 5, 'min_samples_leaf': 350},\n",
       "  mean: 0.99678, std: 0.00133, params: {'max_depth': 5, 'min_samples_leaf': 400},\n",
       "  mean: 0.99737, std: 0.00152, params: {'max_depth': 5, 'min_samples_leaf': 450},\n",
       "  mean: 0.99829, std: 0.00318, params: {'max_depth': 6, 'min_samples_leaf': 100},\n",
       "  mean: 0.99811, std: 0.00320, params: {'max_depth': 6, 'min_samples_leaf': 150},\n",
       "  mean: 0.99793, std: 0.00324, params: {'max_depth': 6, 'min_samples_leaf': 200},\n",
       "  mean: 0.99844, std: 0.00175, params: {'max_depth': 6, 'min_samples_leaf': 250},\n",
       "  mean: 0.99837, std: 0.00171, params: {'max_depth': 6, 'min_samples_leaf': 300},\n",
       "  mean: 0.99660, std: 0.00173, params: {'max_depth': 6, 'min_samples_leaf': 350},\n",
       "  mean: 0.99652, std: 0.00107, params: {'max_depth': 6, 'min_samples_leaf': 400},\n",
       "  mean: 0.99737, std: 0.00152, params: {'max_depth': 6, 'min_samples_leaf': 450},\n",
       "  mean: 0.99829, std: 0.00318, params: {'max_depth': 7, 'min_samples_leaf': 100},\n",
       "  mean: 0.99811, std: 0.00320, params: {'max_depth': 7, 'min_samples_leaf': 150},\n",
       "  mean: 0.99793, std: 0.00324, params: {'max_depth': 7, 'min_samples_leaf': 200},\n",
       "  mean: 0.99844, std: 0.00175, params: {'max_depth': 7, 'min_samples_leaf': 250},\n",
       "  mean: 0.99837, std: 0.00171, params: {'max_depth': 7, 'min_samples_leaf': 300},\n",
       "  mean: 0.99661, std: 0.00174, params: {'max_depth': 7, 'min_samples_leaf': 350},\n",
       "  mean: 0.99652, std: 0.00107, params: {'max_depth': 7, 'min_samples_leaf': 400},\n",
       "  mean: 0.99737, std: 0.00152, params: {'max_depth': 7, 'min_samples_leaf': 450},\n",
       "  mean: 0.99829, std: 0.00318, params: {'max_depth': 8, 'min_samples_leaf': 100},\n",
       "  mean: 0.99811, std: 0.00320, params: {'max_depth': 8, 'min_samples_leaf': 150},\n",
       "  mean: 0.99793, std: 0.00324, params: {'max_depth': 8, 'min_samples_leaf': 200},\n",
       "  mean: 0.99844, std: 0.00175, params: {'max_depth': 8, 'min_samples_leaf': 250},\n",
       "  mean: 0.99837, std: 0.00171, params: {'max_depth': 8, 'min_samples_leaf': 300},\n",
       "  mean: 0.99661, std: 0.00174, params: {'max_depth': 8, 'min_samples_leaf': 350},\n",
       "  mean: 0.99652, std: 0.00107, params: {'max_depth': 8, 'min_samples_leaf': 400},\n",
       "  mean: 0.99737, std: 0.00152, params: {'max_depth': 8, 'min_samples_leaf': 450},\n",
       "  mean: 0.99829, std: 0.00318, params: {'max_depth': 9, 'min_samples_leaf': 100},\n",
       "  mean: 0.99811, std: 0.00320, params: {'max_depth': 9, 'min_samples_leaf': 150},\n",
       "  mean: 0.99793, std: 0.00324, params: {'max_depth': 9, 'min_samples_leaf': 200},\n",
       "  mean: 0.99844, std: 0.00175, params: {'max_depth': 9, 'min_samples_leaf': 250},\n",
       "  mean: 0.99837, std: 0.00171, params: {'max_depth': 9, 'min_samples_leaf': 300},\n",
       "  mean: 0.99661, std: 0.00174, params: {'max_depth': 9, 'min_samples_leaf': 350},\n",
       "  mean: 0.99652, std: 0.00107, params: {'max_depth': 9, 'min_samples_leaf': 400},\n",
       "  mean: 0.99737, std: 0.00152, params: {'max_depth': 9, 'min_samples_leaf': 450}],\n",
       " {'max_depth': 4, 'min_samples_leaf': 250},\n",
       " 0.9984430062680143)"
      ]
     },
     "execution_count": 104,
     "metadata": {},
     "output_type": "execute_result"
    }
   ],
   "source": [
    "param_test1 = {'max_depth':list(range(3,10,1)),\n",
    "              'min_samples_leaf':list(range(100,500,50))}\n",
    "\n",
    "gsearch1 = GridSearchCV(estimator = DecisionTreeClassifier(random_state=10),\n",
    "                                    param_grid = param_test1,\n",
    "                                    scoring='roc_auc',\n",
    "                                    n_jobs=4,\n",
    "                                    cv=5) \n",
    "gsearch1.fit(data_train_new[new_predictors],data_train_new[target])\n",
    "gsearch1.grid_scores_, gsearch1.best_params_, gsearch1.best_score_"
   ]
  },
  {
   "cell_type": "code",
   "execution_count": 23,
   "metadata": {
    "collapsed": false
   },
   "outputs": [
    {
     "data": {
      "text/plain": [
       "([mean: 0.99844, std: 0.00175, params: {'min_samples_leaf': 250},\n",
       "  mean: 0.99844, std: 0.00175, params: {'min_samples_leaf': 260},\n",
       "  mean: 0.99806, std: 0.00163, params: {'min_samples_leaf': 270},\n",
       "  mean: 0.99729, std: 0.00231, params: {'min_samples_leaf': 280},\n",
       "  mean: 0.99843, std: 0.00174, params: {'min_samples_leaf': 290}],\n",
       " {'min_samples_leaf': 250},\n",
       " 0.9984429434991442)"
      ]
     },
     "execution_count": 23,
     "metadata": {},
     "output_type": "execute_result"
    }
   ],
   "source": [
    "param_test2 = {'min_samples_leaf':list(range(250,300,10))}\n",
    "\n",
    "gsearch1 = GridSearchCV(estimator = DecisionTreeClassifier(random_state=10),\n",
    "                                    param_grid = param_test2,\n",
    "                                    scoring='roc_auc',\n",
    "                                    n_jobs=4,\n",
    "                                    cv=5, iid=False) \n",
    "gsearch1.fit(data_train_new[new_predictors],data_train_new[target])\n",
    "gsearch1.grid_scores_, gsearch1.best_params_, gsearch1.best_score_"
   ]
  },
  {
   "cell_type": "code",
   "execution_count": 105,
   "metadata": {
    "collapsed": false
   },
   "outputs": [
    {
     "name": "stdout",
     "output_type": "stream",
     "text": [
      "\n",
      "Model Report\n",
      "AUC (Train): 0.992091\n",
      "AUC (Test): 0.578082\n"
     ]
    }
   ],
   "source": [
    "dtr = DecisionTreeClassifier(max_depth=4, \n",
    "                             min_samples_leaf=250,\n",
    "                             random_state=10\n",
    "                             \n",
    "                            )\n",
    "modelfit(dtr, data_train_new, data_test_new, new_predictors, target)"
   ]
  },
  {
   "cell_type": "markdown",
   "metadata": {},
   "source": [
    "Как видно, качество на тесте возросло, однако модель явно переобучена. Возможно, полезным будет обрезать признаки по важности,\n",
    "\n",
    "что и попробуем сделать в следующих экспериментах."
   ]
  },
  {
   "cell_type": "markdown",
   "metadata": {},
   "source": [
    "#### 2. Настройте случайный лес, подобрав такое число деревьев `n_estimators`, при котором ошибка выходит на асимптоту. Какое качество на тестовой выборке он дает?"
   ]
  },
  {
   "cell_type": "code",
   "execution_count": 35,
   "metadata": {
    "collapsed": true
   },
   "outputs": [],
   "source": [
    "data_train_new, data_test_new, new_predictors = counts(data_new)"
   ]
  },
  {
   "cell_type": "code",
   "execution_count": 12,
   "metadata": {
    "collapsed": true
   },
   "outputs": [],
   "source": [
    "from xgboost.sklearn import XGBClassifier\n",
    "import xgboost as xgb"
   ]
  },
  {
   "cell_type": "code",
   "execution_count": 15,
   "metadata": {
    "collapsed": false
   },
   "outputs": [
    {
     "name": "stderr",
     "output_type": "stream",
     "text": [
      "Will train until cv error hasn't decreased in 50 rounds.\n",
      "Stopping. Best iteration: 104\n"
     ]
    },
    {
     "name": "stdout",
     "output_type": "stream",
     "text": [
      "\n",
      "Model Report\n",
      "AUC (Train): 0.999977\n",
      "AUC (Test): 0.578461\n"
     ]
    },
    {
     "data": {
      "image/png": "[encoded data removed]",
      "text/plain": [
       "<matplotlib.figure.Figure at 0x7f3b8925cd30>"
      ]
     },
     "metadata": {},
     "output_type": "display_data"
    }
   ],
   "source": [
    "xgb1 = XGBClassifier(n_estimators=1000, seed=numpy.random.random([27]))\n",
    "\n",
    "modelfit_xgb(xgb1, data_train_new, data_test_new, new_predictors, target)"
   ]
  },
  {
   "cell_type": "markdown",
   "metadata": {},
   "source": [
    "Воспользовались собственным скриптом, который в начале подбирает n_estimators, при котором ошибка выходит на асимптоту,\n",
    "а затем вычисляет ошибку на трейне и тесте.\n",
    "\n",
    "Видно, что очень много незначительных признаков, до которых, скорее всего, руки классификатора даже не дошли.\n",
    "Попробуем не использовать парные признаки."
   ]
  },
  {
   "cell_type": "code",
   "execution_count": 36,
   "metadata": {
    "collapsed": false
   },
   "outputs": [
    {
     "name": "stderr",
     "output_type": "stream",
     "text": [
      "Will train until cv error hasn't decreased in 50 rounds.\n",
      "Stopping. Best iteration: 345\n"
     ]
    },
    {
     "name": "stdout",
     "output_type": "stream",
     "text": [
      "\n",
      "Model Report\n",
      "AUC (Train): 0.895149\n",
      "AUC (Test): 0.641709\n"
     ]
    },
    {
     "data": {
      "image/png": "[encoded data removed]",
      "text/plain": [
       "<matplotlib.figure.Figure at 0x7f3b840bf400>"
      ]
     },
     "metadata": {},
     "output_type": "display_data"
    }
   ],
   "source": [
    "new_new_predictors = [col_name for col_name in new_predictors if '#' not in col_name]\n",
    "xgb1 = XGBClassifier(n_estimators=1000, seed=numpy.random.random([27]))\n",
    "modelfit_xgb(xgb1, data_train_new, data_test_new, new_new_predictors, target)"
   ]
  },
  {
   "cell_type": "markdown",
   "metadata": {},
   "source": [
    "Как видно, разрыв между тестом и трейном стал меньше, а значит увеличилась обобщающая способность нашей модели."
   ]
  },
  {
   "cell_type": "markdown",
   "metadata": {},
   "source": [
    "#### 3. Возьмите выборку с парными признаками, для которой счетчики посчитаны с фолдингом. Обучите на ней случайный лес, подобрав число деревьев. Какое качество на тестовой выборке он дает? Чем вы можете объяснить изменение результата по сравнению с предыдущим пунктом?"
   ]
  },
  {
   "cell_type": "code",
   "execution_count": 26,
   "metadata": {
    "collapsed": true
   },
   "outputs": [],
   "source": [
    "data_train_new, data_test_new, new_predictors = counts_folds(data_new)"
   ]
  },
  {
   "cell_type": "code",
   "execution_count": 33,
   "metadata": {
    "collapsed": false
   },
   "outputs": [
    {
     "name": "stderr",
     "output_type": "stream",
     "text": [
      "Will train until cv error hasn't decreased in 50 rounds.\n",
      "Stopping. Best iteration: 325\n"
     ]
    },
    {
     "name": "stdout",
     "output_type": "stream",
     "text": [
      "\n",
      "Model Report\n",
      "AUC (Train): 0.708750\n",
      "AUC (Test): 0.660495\n"
     ]
    },
    {
     "data": {
      "image/png": "[encoded data removed]",
      "text/plain": [
       "<matplotlib.figure.Figure at 0x7f3b8411c4e0>"
      ]
     },
     "metadata": {},
     "output_type": "display_data"
    }
   ],
   "source": [
    "figure(figsize=(10,8))\n",
    "xgb1 = XGBClassifier(n_estimators=1000, seed=numpy.random.random([27]))\n",
    "modelfit_xgb(xgb1, data_train_new, data_test_new, new_predictors, target)"
   ]
  },
  {
   "cell_type": "markdown",
   "metadata": {},
   "source": [
    "Качество на тесте возросло, обобщающая способность выше, для этого и применяли фолдинг!"
   ]
  },
  {
   "cell_type": "markdown",
   "metadata": {},
   "source": [
    "---"
   ]
  },
  {
   "cell_type": "markdown",
   "metadata": {},
   "source": [
    "Здесь вы можете поделиться своими мыслями о задании."
   ]
  },
  {
   "cell_type": "markdown",
   "metadata": {
    "collapsed": true
   },
   "source": [
    "Задание понравилось, полезно было поработать над оптимизацией кода)"
   ]
  },
  {
   "cell_type": "markdown",
   "metadata": {},
   "source": [
    "А здесь вставьте смешную картинку."
   ]
  },
  {
   "cell_type": "markdown",
   "metadata": {},
   "source": [
    "![](picture.jpg ?raw=true)"
   ]
  },
  {
   "cell_type": "code",
   "execution_count": 51,
   "metadata": {
    "collapsed": false
   },
   "outputs": [
    {
     "data": {
      "image/jpeg": "[encoded data removed]",
      "text/plain": [
       "<IPython.core.display.Image object>"
      ]
     },
     "execution_count": 51,
     "metadata": {},
     "output_type": "execute_result"
    }
   ],
   "source": [
    "from IPython.display import Image\n",
    "Image(filename='picture.jpg')"
   ]
  },
  {
   "cell_type": "markdown",
   "metadata": {},
   "source": [
    "А здесь посоветуйте преподавателям хороший фильм или сериал."
   ]
  },
  {
   "cell_type": "markdown",
   "metadata": {
    "collapsed": true
   },
   "source": [
    "Мне понравился фильм \"Фирма\" по роману Джона Гришэма с Томом Крузом в главной роли.\n",
    "\n",
    "Фильм был выпущен в 90-х годаx, однако я его посмотрела много позже, и осталась под приятным впечатлением."
   ]
  }
 ],
 "metadata": {
  "kernelspec": {
   "display_name": "Python 3",
   "language": "python",
   "name": "python3"
  },
  "language_info": {
   "codemirror_mode": {
    "name": "ipython",
    "version": 3
   },
   "file_extension": ".py",
   "mimetype": "text/x-python",
   "name": "python",
   "nbconvert_exporter": "python",
   "pygments_lexer": "ipython3",
   "version": "3.5.2"
  }
 },
 "nbformat": 4,
 "nbformat_minor": 0
}
