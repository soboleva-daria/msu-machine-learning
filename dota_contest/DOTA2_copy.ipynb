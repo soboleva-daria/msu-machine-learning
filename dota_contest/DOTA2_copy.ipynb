{
 "cells": [
  {
   "cell_type": "code",
   "execution_count": 1,
   "metadata": {
    "collapsed": false
   },
   "outputs": [
    {
     "name": "stdout",
     "output_type": "stream",
     "text": [
      "Populating the interactive namespace from numpy and matplotlib\n"
     ]
    }
   ],
   "source": [
    "import pandas as pd\n",
    "import numpy as np\n",
    "from sklearn.metrics import log_loss\n",
    "from sklearn.linear_model import LogisticRegression\n",
    "from sklearn.neighbors import KNeighborsClassifier\n",
    "from  sklearn.grid_search import GridSearchCV\n",
    "from sklearn.cross_validation import KFold\n",
    "%pylab inline"
   ]
  },
  {
   "cell_type": "code",
   "execution_count": 2,
   "metadata": {
    "collapsed": false
   },
   "outputs": [
    {
     "data": {
      "text/plain": [
       "(97230, 108)"
      ]
     },
     "execution_count": 2,
     "metadata": {},
     "output_type": "execute_result"
    }
   ],
   "source": [
    "data_train = pd.read_csv('features.csv', index_col='match_id')\n",
    "data_train.shape"
   ]
  },
  {
   "cell_type": "code",
   "execution_count": 3,
   "metadata": {
    "collapsed": false
   },
   "outputs": [
    {
     "data": {
      "text/plain": [
       "(17177, 102)"
      ]
     },
     "execution_count": 3,
     "metadata": {},
     "output_type": "execute_result"
    }
   ],
   "source": [
    "data_test = pd.read_csv('features_test.csv', index_col='match_id')\n",
    "data_test.shape"
   ]
  },
  {
   "cell_type": "code",
   "execution_count": 4,
   "metadata": {
    "collapsed": false
   },
   "outputs": [],
   "source": [
    "# Drop features are not in the test\n",
    "match_res = ['duration', 'tower_status_radiant',\n",
    "             'tower_status_dire','barracks_status_radiant', 'barracks_status_dire' ]\n",
    "for col_name in match_res:\n",
    "    data_train.drop(col_name, axis=1 , inplace = True)"
   ]
  },
  {
   "cell_type": "code",
   "execution_count": 5,
   "metadata": {
    "collapsed": true
   },
   "outputs": [],
   "source": [
    "# Sergey's features\n",
    "domin_train = pd.read_csv('dom0.csv', index_col = 'match_id')\n",
    "for i in range(1, 20):\n",
    "    domin_train = pd.concat([domin_train, pd.read_csv('dom{}.csv'.format(i), index_col='match_id')])\n",
    "    \n",
    "domin_test = pd.read_csv('dom_t0.csv', index_col = 'match_id')\n",
    "for i in range(1, 4):\n",
    "    domin_test = pd.concat([domin_test, pd.read_csv('dom_t{}.csv'.format(i), index_col='match_id')])\n",
    "\n",
    "data_train = pd.concat([data_train, domin_train], axis=1)\n",
    "data_test = pd.concat([data_test, domin_test], axis=1)"
   ]
  },
  {
   "cell_type": "code",
   "execution_count": 6,
   "metadata": {
    "collapsed": true
   },
   "outputs": [],
   "source": [
    "# All purchases\n",
    "\n",
    "\n",
    "# Drop to avoid replays\n",
    "data_train.drop('radiant_tpscroll_count', axis=1, inplace=True)\n",
    "data_train.drop('radiant_boots_count', axis=1, inplace=True)\n",
    "data_train.drop('radiant_ward_observer_count', axis=1, inplace=True)\n",
    "data_train.drop('radiant_ward_sentry_count', axis=1, inplace=True)\n",
    "\n",
    "data_train.drop('dire_tpscroll_count', axis=1, inplace=True)\n",
    "data_train.drop('dire_boots_count', axis=1, inplace=True)\n",
    "data_train.drop('dire_ward_observer_count', axis=1, inplace=True)\n",
    "data_train.drop('dire_ward_sentry_count', axis=1, inplace=True)\n",
    "\n",
    "\n",
    "data_test.drop('radiant_tpscroll_count', axis=1, inplace=True)\n",
    "data_test.drop('radiant_boots_count', axis=1, inplace=True)\n",
    "data_test.drop('radiant_ward_observer_count', axis=1, inplace=True)\n",
    "data_test.drop('radiant_ward_sentry_count', axis=1, inplace=True)\n",
    "\n",
    "data_test.drop('dire_tpscroll_count', axis=1, inplace=True)\n",
    "data_test.drop('dire_boots_count', axis=1, inplace=True)\n",
    "data_test.drop('dire_ward_observer_count', axis=1, inplace=True)\n",
    "data_test.drop('dire_ward_sentry_count', axis=1, inplace=True)\n",
    "\n",
    "# build files for train\n",
    "tmp0 = pd.read_csv('tmp0.csv')\n",
    "tmp1 = pd.read_csv('tmp1.csv')\n",
    "tmp1.columns = tmp0.columns\n",
    "tmp2 = pd.read_csv('tmp2.csv')\n",
    "tmp2.columns = tmp0.columns\n",
    "items_train = pd.concat([tmp0, tmp1, tmp2])\n",
    "items_train = items_train.set_index(data_train.index) #['match_id']\n",
    "items_train.drop('match_id', axis=1, inplace=True)\n",
    "\n",
    "# build files for test\n",
    "items_test = pd.read_csv('items_test_.csv', index_col = 'match_id')\n",
    "\n",
    "data_train = pd.concat([data_train, items_train], axis=1)\n",
    "data_test = pd.concat([data_test, items_test], axis=1)"
   ]
  },
  {
   "cell_type": "code",
   "execution_count": 7,
   "metadata": {
    "collapsed": true
   },
   "outputs": [],
   "source": [
    "target = 'radiant_win'\n",
    "predictors = [col_name for col_name in data_train.columns if col_name != target]\n",
    "new_predictors = []"
   ]
  },
  {
   "cell_type": "code",
   "execution_count": 8,
   "metadata": {
    "collapsed": false
   },
   "outputs": [
    {
     "name": "stdout",
     "output_type": "stream",
     "text": [
      "first_blood_time\n",
      "first_blood_team\n",
      "first_blood_player1\n",
      "first_blood_player2\n",
      "radiant_bottle_time\n",
      "radiant_courier_time\n",
      "radiant_flying_courier_time\n",
      "radiant_first_ward_time\n",
      "dire_bottle_time\n",
      "dire_courier_time\n",
      "dire_flying_courier_time\n",
      "dire_first_ward_time\n"
     ]
    }
   ],
   "source": [
    "# Features with missing values\n",
    "for col_name in predictors:\n",
    "    if data_train[col_name].isnull().values.any():\n",
    "        print (col_name)"
   ]
  },
  {
   "cell_type": "code",
   "execution_count": 9,
   "metadata": {
    "collapsed": true
   },
   "outputs": [],
   "source": [
    "data = pd.concat([data_train, data_test])"
   ]
  },
  {
   "cell_type": "code",
   "execution_count": 10,
   "metadata": {
    "collapsed": false
   },
   "outputs": [],
   "source": [
    "data['bottle'] = (data.radiant_bottle_time > 0) * 1 + (data.dire_bottle_time > 0) * -1\n",
    "\n",
    "data['courier'] = (data.radiant_courier_time > 0) * -1 + (data.dire_courier_time > 0) * 1\n",
    "\n",
    "data['flying_courier'] = (data.radiant_flying_courier_time > 0) * 1 + (data.dire_flying_courier_time > 0) * -1\n",
    "\n",
    "data['first_ward'] = ((data.radiant_first_ward_time > 0) & (data.radiant_first_ward_time < 150)) * 1 + \\\n",
    "((data.dire_first_ward_time > 0) & (data.dire_first_ward_time < 150)) * -1\n",
    "new_predictors.extend(['bottle', 'courier', 'flying_courier', 'first_ward'])"
   ]
  },
  {
   "cell_type": "code",
   "execution_count": 11,
   "metadata": {
    "collapsed": false
   },
   "outputs": [
    {
     "data": {
      "image/png": "[encoded data removed]",
      "text/plain": [
       "<matplotlib.figure.Figure at 0x7f910a9dadd8>"
      ]
     },
     "metadata": {},
     "output_type": "display_data"
    }
   ],
   "source": [
    "# The impact of buying these items on target\n",
    "fig, axs = plt.subplots(2, 2, figsize=(15, 10))\n",
    "for i, f in enumerate(['bottle', 'courier', 'flying_courier', 'first_ward']):\n",
    "    data.groupby(f)['radiant_win'].mean().plot.bar(ax=axs[i // 2][i % 2])"
   ]
  },
  {
   "cell_type": "code",
   "execution_count": 12,
   "metadata": {
    "collapsed": true
   },
   "outputs": [],
   "source": [
    "n_samples =  data_train.shape[0]\n",
    "data_train = data[:n_samples].copy()\n",
    "data_test = data[n_samples:].copy()\n",
    "data_test.drop(target, axis=1, inplace=True)"
   ]
  },
  {
   "cell_type": "code",
   "execution_count": 13,
   "metadata": {
    "collapsed": false
   },
   "outputs": [],
   "source": [
    "predictors = [col_name for col_name in data.columns if col_name != target]"
   ]
  },
  {
   "cell_type": "code",
   "execution_count": 14,
   "metadata": {
    "collapsed": true
   },
   "outputs": [],
   "source": [
    "# Replace missing values with median (more resistant to the noise)\n",
    "# add out-of-fold feature: 1 - missing value, 0 - not \n",
    "\n",
    "for col_name in predictors:\n",
    "    median = data_train[col_name].median()\n",
    "    \n",
    "    if data_train[col_name].isnull().any():\n",
    "        data_train['isnull_{}'.format(col_name)] = \\\n",
    "                                             data_train[col_name].isnull().astype(int)\n",
    "        data_train[col_name] = data_train[col_name].replace(np.nan, median)\n",
    "        \n",
    "        data_test['isnull_{}'.format(col_name)] = \\\n",
    "                                             data_test[col_name].isnull().astype(int)\n",
    "        data_test[col_name] = data_test[col_name].replace(np.nan, median)\n",
    "        \n",
    "        new_predictors.append('isnull_{}'.format(col_name))    "
   ]
  },
  {
   "cell_type": "code",
   "execution_count": 15,
   "metadata": {
    "collapsed": true
   },
   "outputs": [],
   "source": [
    "# Synergy steam players\n",
    "def calc_rating(data):\n",
    "    N = 113 # heroes\n",
    "\n",
    "    # calculate each hero-pair synergy and antisynergy\n",
    "    synergy = np.zeros((N,N))     # sum of wins in matches played together\n",
    "    antisynergy = np.zeros((N,N)) # sum of wins when played against\n",
    "    matchcounts = np.zeros((N,N)) # count of matches played together\n",
    "    matchcounta = np.zeros((N,N)) # count of matches played against\n",
    "    \n",
    "    for match_counter, match_id in enumerate(data.index):\n",
    "        #synergy when both heroes in win team\n",
    "        winteam = 'r' if data.ix[match_id, 'radiant_win'] == 1 else 'd'\n",
    "        looseteam = 'd' if winteam =='r' else 'r'\n",
    "        pind     = [0] *5 #player indexes    \n",
    "        antipind = [0] *5 # looser indicies\n",
    "        # get indexes of players in each team\n",
    "        for i in range(5):\n",
    "            pind[i] = data.ix[match_id, winteam+'%d_hero'%(i+1)]-1\n",
    "        for i in range(5):\n",
    "            antipind[i] = data.ix[match_id, looseteam+'%d_hero'%(i+1)]-1\n",
    "        # accumulate synergy of pairs\n",
    "        for i in range(5):\n",
    "            for j in range(i+1,5):\n",
    "                synergy[pind[i], pind[j]] +=1\n",
    "                synergy[pind[j], pind[i]] +=1\n",
    "        # accumulate match counter for playing together\n",
    "        for i in range(5):\n",
    "            for j in range(5):\n",
    "                matchcounts[pind[i], pind[j]] +=1 #together and win\n",
    "                matchcounts[antipind[i], antipind[j]] +=1 # together and loose\n",
    "                \n",
    "        #antisynergy when hero i in winteam while hero j in loose team\n",
    "        for i in range(5):\n",
    "            for j in range(5):\n",
    "                antisynergy[pind[i], antipind[j]] +=1\n",
    "                matchcounta[pind[i], antipind[j]] +=1\n",
    "                matchcounta[antipind[j], pind[i]] +=1\n",
    "        \n",
    "    # normalize\n",
    "    synergyrate = np.zeros((N,N))\n",
    "    antisynergyrate = np.zeros((N,N))\n",
    "    for i in range(N):\n",
    "        for j in range(N):\n",
    "            if matchcounts[i,j] !=0:\n",
    "                synergyrate[i,j] = synergy[i,j]/matchcounts[i,j] \n",
    "            else:\n",
    "                synergyrate[i,j] = 0.5  \n",
    "            if matchcounta[i,j] !=0:\n",
    "                antisynergyrate[i,j] = antisynergy[i,j]/ matchcounta[i,j]\n",
    "            else:\n",
    "                antisynergyrate[i,j] = 0.5      \n",
    "\n",
    "    return  synergyrate, antisynergyrate"
   ]
  },
  {
   "cell_type": "code",
   "execution_count": 16,
   "metadata": {
    "collapsed": false
   },
   "outputs": [],
   "source": [
    "# Synergy, folding for train\n",
    "\n",
    "data_train['synergy'] = 0.0\n",
    "data_train['antisynergy'] = 0.0\n",
    "\n",
    "kf = KFold(data_train.shape[0], 10)\n",
    "\n",
    "for i1, j1 in kf:\n",
    "    data_train_ = data_train.iloc[i1]\n",
    "    data_test_ =  data_train.iloc[j1]\n",
    "    synergyrate, antisynergyrate = calc_rating(data_train_)  \n",
    "    syn = np.zeros(data_test_.shape[0])\n",
    "    antisyn = np.zeros(data_test_.shape[0])\n",
    "    \n",
    "    for match_counter, match_id in enumerate(data_test_.index):\n",
    "        rind = [0] *5 #radiant indicies    \n",
    "        dind = [0] *5 # dire indicies\n",
    "        \n",
    "        # get indexes of players in each team\n",
    "        for i in range(5):\n",
    "            rind[i] = data_test_.ix[match_id, 'r%d_hero'%(i+1)]-1\n",
    "        for i in range(5):\n",
    "            dind[i] = data_test_.ix[match_id, 'd%d_hero'%(i+1)]-1\n",
    "            \n",
    "        # accumulate synergy of radiants minus synergy of dires\n",
    "        \n",
    "        # + radiants synergy\n",
    "        for i in range(5):\n",
    "            for j in range(i+1,5):\n",
    "                syn[match_counter] += synergyrate[rind[i], rind[j]]\n",
    "        # - dire synergy\n",
    "        for i in range(5):\n",
    "            for j in range(i+1,5):\n",
    "                syn[match_counter] -= synergyrate[dind[i], dind[j]]\n",
    "        # accumulate antisynergy\n",
    "        for i in range(5):\n",
    "            for j in range(5):\n",
    "                antisyn[match_counter] += antisynergyrate[rind[i], dind[j]] \n",
    "                \n",
    "    data_train.loc[data_test_.index, 'synergy'] = syn\n",
    "    data_train.loc[data_test_.index, 'antisynergy'] = antisyn\n",
    "\n",
    "    \n",
    "new_predictors.extend(['synergy', 'antisynergy'])"
   ]
  },
  {
   "cell_type": "code",
   "execution_count": 17,
   "metadata": {
    "collapsed": true
   },
   "outputs": [],
   "source": [
    "# Synergy, for test \n",
    "\n",
    "data_test['synergy'] = 0.0\n",
    "data_test['antisynergy'] = 0.0\n",
    "\n",
    "synergyrate, antisynergyrate = calc_rating(data_train)  \n",
    "syn = np.zeros(data_test.shape[0])\n",
    "antisyn = np.zeros(data_test.shape[0])\n",
    "    \n",
    "for match_counter, match_id in enumerate(data_test.index):\n",
    "    rind = [0] *5 #radiant indicies    \n",
    "    dind = [0] *5 # dire indicies\n",
    "        \n",
    "    # get indexes of players in each team\n",
    "    for i in range(5):\n",
    "        rind[i] = data_test.ix[match_id, 'r%d_hero'%(i+1)]-1\n",
    "    for i in range(5):\n",
    "        dind[i] = data_test.ix[match_id, 'd%d_hero'%(i+1)]-1\n",
    "            \n",
    "    # accumulate synergy of radiants minus synergy of dires\n",
    "        \n",
    "    # + radiants synergy\n",
    "    for i in range(5):\n",
    "        for j in range(i+1,5):\n",
    "            syn[match_counter] += synergyrate[rind[i], rind[j]]\n",
    "    # - dire synergy\n",
    "    for i in range(5):\n",
    "        for j in range(i+1,5):\n",
    "            syn[match_counter] -= synergyrate[dind[i], dind[j]]\n",
    "    # accumulate antisynergy\n",
    "    for i in range(5):\n",
    "        for j in range(5):\n",
    "            antisyn[match_counter] += antisynergyrate[rind[i], dind[j]] \n",
    "\n",
    "\n",
    "data_test['synergy'] = syn\n",
    "data_test['antisynergy'] = antisyn    "
   ]
  },
  {
   "cell_type": "code",
   "execution_count": 18,
   "metadata": {
    "collapsed": true
   },
   "outputs": [],
   "source": [
    "# For binarization\n",
    "data = pd.concat([data_train, data_test])"
   ]
  },
  {
   "cell_type": "code",
   "execution_count": 9,
   "metadata": {
    "collapsed": false
   },
   "outputs": [],
   "source": [
    "# Works as well as indicators\n",
    "shop = ['bottle_time', 'courier_time', 'flying_courier_time', 'first_ward_time']\n",
    "for f in shop:\n",
    "    data['shop_ind_{}'.format(f)] = data['isnull_dire_{}'.format(f)] - data['isnull_radiant_{}'.format(f)] \n",
    "    new_predictors.append('shop_ind_{}'.format(f)) \n",
    "    data.drop('isnull_dire_{}'.format(f), axis=1, inplace=True)\n",
    "    data.drop('isnull_radiant_{}'.format(f), axis=1, inplace=True)"
   ]
  },
  {
   "cell_type": "code",
   "execution_count": 11,
   "metadata": {
    "collapsed": false
   },
   "outputs": [
    {
     "name": "stderr",
     "output_type": "stream",
     "text": [
      "/root/miniconda/envs/jupyterhub_py3/lib/python3.4/site-packages/IPython/html.py:14: ShimWarning: The `IPython.html` package has been deprecated. You should import from `notebook` instead. `IPython.html.widgets` has moved to `ipywidgets`.\n",
      "  \"`IPython.html.widgets` has moved to `ipywidgets`.\", ShimWarning)\n",
      "/root/miniconda/envs/jupyterhub_py3/lib/python3.4/site-packages/matplotlib/collections.py:590: FutureWarning: elementwise comparison failed; returning scalar instead, but in the future will perform elementwise comparison\n",
      "  if self._edgecolors == str('face'):\n"
     ]
    },
    {
     "data": {
      "text/plain": [
       "<matplotlib.axes._subplots.AxesSubplot at 0x7f900f484390>"
      ]
     },
     "execution_count": 11,
     "metadata": {},
     "output_type": "execute_result"
    },
    {
     "data": {
      "image/png": "[encoded data removed]",
      "text/plain": [
       "<matplotlib.figure.Figure at 0x7f900f9984a8>"
      ]
     },
     "metadata": {},
     "output_type": "display_data"
    }
   ],
   "source": [
    "import seaborn\n",
    "corr = ['first_blood_time', 'first_blood_team', \n",
    "        'first_blood_player1', 'first_blood_player2',\n",
    "        'radiant_bottle_time', 'radiant_courier_time', 'radiant_flying_courier_time',\n",
    "        'radiant_tpscroll_count', 'radiant_boots_count', 'radiant_ward_observer_count',\n",
    "        'radiant_ward_sentry_count', 'radiant_first_ward_time', \n",
    "        'dire_bottle_time', 'dire_courier_time', 'dire_flying_courier_time',\n",
    "        'dire_tpscroll_count', 'dire_boots_count', 'dire_ward_observer_count',\n",
    "        'dire_ward_sentry_count', 'radiant_first_ward_time', 'radiant_win']\n",
    "\n",
    "seaborn.heatmap(data[corr].corr())"
   ]
  },
  {
   "cell_type": "code",
   "execution_count": 8,
   "metadata": {
    "collapsed": false
   },
   "outputs": [
    {
     "data": {
      "image/png": "[encoded data removed]",
      "text/plain": [
       "<matplotlib.figure.Figure at 0x7f1edfb55d30>"
      ]
     },
     "metadata": {},
     "output_type": "display_data"
    }
   ],
   "source": [
    "fig = figure(figsize=(8, 6))\n",
    "data.lobby_type.value_counts().plot(kind='bar')\n",
    "grid()\n",
    "title('lobby_type')\n",
    "show()"
   ]
  },
  {
   "cell_type": "code",
   "execution_count": 19,
   "metadata": {
    "collapsed": false
   },
   "outputs": [],
   "source": [
    "# Categorical feature lobby_type {0, 1, 7}, one-hot-encoding\n",
    "lobby_type  = pd.get_dummies(data.lobby_type)\n",
    "data.drop('lobby_type', axis=1, inplace=True)\n",
    "lobby_type.columns = ['lb_0', 'lb_1', 'lb_7']\n",
    "data = pd.concat([data, lobby_type], axis = 1)\n",
    "\n",
    "new_predictors.extend(lobby_type.columns)"
   ]
  },
  {
   "cell_type": "code",
   "execution_count": 11,
   "metadata": {
    "collapsed": false
   },
   "outputs": [
    {
     "data": {
      "image/png": "[encoded data removed]",
      "text/plain": [
       "<matplotlib.figure.Figure at 0x7f4d736c2f60>"
      ]
     },
     "metadata": {},
     "output_type": "display_data"
    }
   ],
   "source": [
    "fig = figure(figsize=(8, 6))\n",
    "data.first_blood_player1.value_counts().plot(kind='bar')\n",
    "grid()\n",
    "title('first_blood_player1')\n",
    "show()"
   ]
  },
  {
   "cell_type": "code",
   "execution_count": 12,
   "metadata": {
    "collapsed": false
   },
   "outputs": [
    {
     "data": {
      "image/png": "[encoded data removed]",
      "text/plain": [
       "<matplotlib.figure.Figure at 0x7f4d703f5940>"
      ]
     },
     "metadata": {},
     "output_type": "display_data"
    }
   ],
   "source": [
    "fig = figure(figsize=(8, 6))\n",
    "data.first_blood_player2.value_counts().plot(kind='bar')\n",
    "grid()\n",
    "title('first_blood_player2')\n",
    "show()"
   ]
  },
  {
   "cell_type": "code",
   "execution_count": 20,
   "metadata": {
    "collapsed": true
   },
   "outputs": [],
   "source": [
    "# Categorical features first_blood_player1, first_blood_player2 {0.0 ... 0.9}, one-hot-encoding\n",
    "\n",
    "player1  = pd.get_dummies(data.first_blood_player1)\n",
    "player2  = pd.get_dummies(data.first_blood_player2)\n",
    "\n",
    "player1.columns = ['player1_{}'.format(i) for i in range(10)]\n",
    "player2.columns = ['player2_{}'.format(i) for i in range(10)]\n",
    "\n",
    "data  = pd.concat([data, player1, player2], axis=1)\n",
    "data.drop('first_blood_player1', axis=1, inplace=True)\n",
    "data.drop('first_blood_player2', axis=1, inplace=True)\n",
    "\n",
    "new_predictors.extend(player1.columns)\n",
    "new_predictors.extend(player2.columns)"
   ]
  },
  {
   "cell_type": "code",
   "execution_count": 21,
   "metadata": {
    "collapsed": false
   },
   "outputs": [
    {
     "name": "stdout",
     "output_type": "stream",
     "text": [
      "r1_hero 108\n",
      "r2_hero 108\n",
      "r3_hero 108\n",
      "r4_hero 108\n",
      "r5_hero 108\n",
      "d1_hero 108\n",
      "d2_hero 108\n",
      "d3_hero 108\n",
      "d4_hero 108\n",
      "d5_hero 108\n"
     ]
    }
   ],
   "source": [
    "r_players = ['r{}_hero'.format(i) for i in range(1,6)]\n",
    "d_players = ['d{}_hero'.format(i) for i in range(1,6)]\n",
    "players = r_players + d_players\n",
    "for player in players:\n",
    "    print(player,\n",
    "          np.unique(data[player]).size)"
   ]
  },
  {
   "cell_type": "code",
   "execution_count": 22,
   "metadata": {
    "collapsed": false
   },
   "outputs": [],
   "source": [
    "# one-hot-encoding of heros\n",
    "N = np.unique(data['r1_hero'])[-1]\n",
    "X_pick = np.zeros((data.shape[0], N))\n",
    "\n",
    "for i, match_id in enumerate(data.index):\n",
    "    for p in range(5):\n",
    "            X_pick[i, data.ix[match_id, 'r%d_hero' % (p+1)]-1] = 1\n",
    "            X_pick[i, data.ix[match_id, 'd%d_hero' % (p+1)]-1] = -1\n",
    "    \n",
    "\n",
    "heros = pd.DataFrame(X_pick, index = data.index, columns=['hero_{}'.format(i) for i in range(N)])\n",
    "data = pd.concat([data, heros], axis=1)\n",
    "for player in players:\n",
    "    data.drop(player, axis=1, inplace=True)\n",
    "    \n",
    "new_predictors.extend(['hero_{}'.format(i) for i in range(N)])"
   ]
  },
  {
   "cell_type": "code",
   "execution_count": null,
   "metadata": {
    "collapsed": true
   },
   "outputs": [],
   "source": [
    "# This way works worse\n",
    "f_hero = ['level', 'xp', 'gold', 'lh', 'kills', 'deaths', 'items']\n",
    "for f in f_hero:\n",
    "    data['r_{}_sum'.format(f)] = \\\n",
    "               data[['r{}_{}'.format(i, f) for i in range(1,6)]].sum(axis = 1)\n",
    "    data['d_{}_sum'.format(f)] = \\\n",
    "               data[['d{}_{}'.format(i, f) for i in range(1,6)]].sum(axis = 1)  \n",
    "        \n",
    "    for i in range(1, 6):\n",
    "        data.drop('r{}_{}'.format(i, f), inplace=True)\n",
    "        data.drop('d{}_{}'.format(i, f), inplace=True)"
   ]
  },
  {
   "cell_type": "code",
   "execution_count": 23,
   "metadata": {
    "collapsed": false
   },
   "outputs": [],
   "source": [
    "# Calculate relative values\n",
    "\n",
    "f_hero = ['level','xp', 'gold', 'lh', 'kills', 'deaths', 'items',\n",
    "          'win_gold', 'win_xp', 'win_lh', 'lose_gold', 'lose_xp', 'lose_lh', \n",
    "          'domin_gold', 'domin_xp', 'domin_lh', 'domin2_gold', 'domin2_xp', 'domin2_lh']\n",
    "for f in f_hero: \n",
    "    sum_r = data[['r{}_{}'.format(i, f) for i in range(1,6)]].sum(axis = 1)\n",
    "    sum_d = data[['d{}_{}'.format(i, f) for i in range(1,6)]].sum(axis = 1)\n",
    "    \n",
    "    mean_r = data[['r{}_{}'.format(i, f) for i in range(1,6)]].sum(axis = 1)\n",
    "    mean_d = data[['d{}_{}'.format(i, f) for i in range(1,6)]].sum(axis = 1)\n",
    "    \n",
    "    max_r = data[['r{}_{}'.format(i, f) for i in range(1,6)]].max(axis = 1)\n",
    "    max_d = data[['d{}_{}'.format(i, f) for i in range(1,6)]].max(axis = 1)\n",
    "    \n",
    "    min_r = data[['r{}_{}'.format(i, f) for i in range(1,6)]].min(axis = 1)\n",
    "    min_d = data[['d{}_{}'.format(i, f) for i in range(1,6)]].min(axis = 1)\n",
    "    \n",
    "    std_r = data[['r{}_{}'.format(i, f) for i in range(1,6)]].std(axis = 1)\n",
    "    std_d = data[['d{}_{}'.format(i, f) for i in range(1,6)]].std(axis = 1)\n",
    "    \n",
    "    data['diff_sum_{}'.format(f)] = sum_r - sum_d\n",
    "    data['diff_norm_sum_{}'.format(f)] = (sum_r - sum_d) / sqrt (abs(sum_r) + abs(sum_d) ).replace(0, 1)\n",
    "    new_predictors.append('diff_norm_sum_{}'.format(f))\n",
    "    \n",
    "    #data['diff_div_{}'.format(f)] = sum_r / sum_d.replace(0, 1)\n",
    "    \n",
    "    data['diff_max_{}'.format(f)] = max_r - max_d\n",
    "    data['diff_norm_max_{}'.format(f)] = (max_r - max_d) / sqrt (abs(max_r) + abs(max_d) ).replace(0, 1)\n",
    "    new_predictors.append('diff_norm_max_{}'.format(f))\n",
    "    \n",
    "    data['diff_min_{}'.format(f)] = min_r - min_d\n",
    "    data['diff_norm_min_{}'.format(f)] = (min_r - min_d) / sqrt(abs(min_r) + abs(min_d) ).replace(0, 1)\n",
    "    new_predictors.append('diff_norm_min_{}'.format(f))\n",
    "    \n",
    "    data['diff_std_{}'.format(f)] = std_r - std_d\n",
    "    data['diff_norm_std_{}'.format(f)] = (std_r - std_d) / sqrt(abs(std_r) + abs(std_d) ).replace(0, 1)\n",
    "    new_predictors.append('diff_norm_std_{}'.format(f))\n",
    "    #if f == 'xp':\n",
    "    #    data['r_max_xp'] = max_r\n",
    "    #    data['d_max_xp'] = max_d\n",
    "    for i in range(1, 6):\n",
    "        data.drop('r{}_{}'.format(i, f), axis=1, inplace=True)\n",
    "        data.drop('d{}_{}'.format(i, f), axis=1, inplace=True)"
   ]
  },
  {
   "cell_type": "code",
   "execution_count": 26,
   "metadata": {
    "collapsed": true
   },
   "outputs": [],
   "source": [
    "outliers = ['branches_count', \n",
    "           'enchanted_mango_count', \n",
    "           'tpscroll_count', \n",
    "           'mantle_count', \n",
    "           'belt_of_strength_count', \n",
    "           'circlet_count', \n",
    "           'ring_of_regen_count', \n",
    "           'sobi_mask_count', \n",
    "           'tango_count', \n",
    "           'ring_of_health_count', \n",
    "           'wraith_band_count', \n",
    "           'null_talisman_count', \n",
    "           'headdress_count', \n",
    "           'smoke_of_deceit_count', \n",
    "           'tranquil_boots_count']"
   ]
  },
  {
   "cell_type": "markdown",
   "metadata": {},
   "source": [
    "### Works with outliers"
   ]
  },
  {
   "cell_type": "code",
   "execution_count": 27,
   "metadata": {
    "collapsed": false
   },
   "outputs": [],
   "source": [
    "f = 'branches_count'\n",
    "data['diff_{}'.format(f)] = data['radiant_{}'.format(f)] - data['dire_{}'.format(f)]\n",
    "data.ix[data.diff_branches_count > 10, 'diff_branches_count'] = 10\n",
    "data.ix[data.diff_branches_count < -10, 'diff_branches_count'] = -10\n",
    "\n",
    "data['diff_norm_{}'.format(f)] = (data['radiant_{}'.format(f)] - data['dire_{}'.format(f)]) / \\\n",
    "    sqrt(abs(data['radiant_{}'.format(f)]) + abs(data['dire_{}'.format(f)])).replace(0, 1)\n",
    "new_predictors.append('diff_norm_{}'.format(f))\n",
    "data.drop('radiant_{}'.format(f), axis=1, inplace=True)\n",
    "data.drop('dire_{}'.format(f), axis=1, inplace=True)"
   ]
  },
  {
   "cell_type": "code",
   "execution_count": 28,
   "metadata": {
    "collapsed": true
   },
   "outputs": [],
   "source": [
    "f = 'enchanted_mango_count'\n",
    "data['diff_{}'.format(f)] = data['radiant_{}'.format(f)] - data['dire_{}'.format(f)]\n",
    "data.ix[data.diff_enchanted_mango_count > 5, 'diff_enchanted_mango_count'] = 5\n",
    "data.ix[data.diff_enchanted_mango_count < -5, 'diff_enchanted_mango_count'] = -5\n",
    "\n",
    "data['diff_norm_{}'.format(f)] = (data['radiant_{}'.format(f)] - data['dire_{}'.format(f)]) / \\\n",
    "    sqrt(abs(data['radiant_{}'.format(f)]) + abs(data['dire_{}'.format(f)])).replace(0, 1)\n",
    "new_predictors.append('diff_norm_{}'.format(f))\n",
    "data.drop('radiant_{}'.format(f), axis=1, inplace=True)\n",
    "data.drop('dire_{}'.format(f), axis=1, inplace=True)"
   ]
  },
  {
   "cell_type": "code",
   "execution_count": 29,
   "metadata": {
    "collapsed": true
   },
   "outputs": [],
   "source": [
    "f = 'tpscroll_count'\n",
    "data['diff_{}'.format(f)] = data['radiant_{}'.format(f)] - data['dire_{}'.format(f)]\n",
    "data.ix[data.diff_tpscroll_count > 10, 'diff_tpscroll_count'] = 10\n",
    "data.ix[data.diff_tpscroll_count < -10, 'diff_tpscroll_count'] = -10\n",
    "\n",
    "data['diff_norm_{}'.format(f)] = (data['radiant_{}'.format(f)] - data['dire_{}'.format(f)]) / \\\n",
    "    sqrt(abs(data['radiant_{}'.format(f)]) + abs(data['dire_{}'.format(f)])).replace(0, 1)\n",
    "new_predictors.append('diff_norm_{}'.format(f))\n",
    "data.drop('radiant_{}'.format(f), axis=1, inplace=True)\n",
    "data.drop('dire_{}'.format(f), axis=1, inplace=True)"
   ]
  },
  {
   "cell_type": "code",
   "execution_count": 30,
   "metadata": {
    "collapsed": true
   },
   "outputs": [],
   "source": [
    "f = 'mantle_count'\n",
    "data['diff_{}'.format(f)] = data['radiant_{}'.format(f)] - data['dire_{}'.format(f)]\n",
    "data.ix[data.diff_mantle_count > 3, 'diff_mantle_count'] = 3\n",
    "data.ix[data.diff_mantle_count < -3, 'diff_mantle_count'] = -3\n",
    "\n",
    "data['diff_norm_{}'.format(f)] = (data['radiant_{}'.format(f)] - data['dire_{}'.format(f)]) / \\\n",
    "    sqrt(abs(data['radiant_{}'.format(f)]) + abs(data['dire_{}'.format(f)])).replace(0, 1)\n",
    "new_predictors.append('diff_norm_{}'.format(f))\n",
    "data.drop('radiant_{}'.format(f), axis=1, inplace=True)\n",
    "data.drop('dire_{}'.format(f), axis=1, inplace=True)"
   ]
  },
  {
   "cell_type": "code",
   "execution_count": 31,
   "metadata": {
    "collapsed": true
   },
   "outputs": [],
   "source": [
    "f = 'belt_of_strength_count'\n",
    "data['diff_{}'.format(f)] = data['radiant_{}'.format(f)] - data['dire_{}'.format(f)]\n",
    "data.ix[data.diff_belt_of_strength_count > 2, 'diff_belt_of_strength_count'] = 2\n",
    "data.ix[data.diff_belt_of_strength_count < -2, 'diff_belt_of_strength_count'] = -2\n",
    "\n",
    "data['diff_norm_{}'.format(f)] = (data['radiant_{}'.format(f)] - data['dire_{}'.format(f)]) / \\\n",
    "    sqrt(abs(data['radiant_{}'.format(f)]) + abs(data['dire_{}'.format(f)])).replace(0, 1)\n",
    "new_predictors.append('diff_norm_{}'.format(f))\n",
    "data.drop('radiant_{}'.format(f), axis=1, inplace=True)\n",
    "data.drop('dire_{}'.format(f), axis=1, inplace=True)"
   ]
  },
  {
   "cell_type": "code",
   "execution_count": 32,
   "metadata": {
    "collapsed": true
   },
   "outputs": [],
   "source": [
    "f = 'circlet_count'\n",
    "data['diff_{}'.format(f)] = data['radiant_{}'.format(f)] - data['dire_{}'.format(f)]\n",
    "data.ix[data.diff_circlet_count > 8, 'diff_circlet_count'] = 8\n",
    "data.ix[data.diff_circlet_count < -6, 'diff_circlet_count'] = -6\n",
    "\n",
    "data['diff_norm_{}'.format(f)] = (data['radiant_{}'.format(f)] - data['dire_{}'.format(f)]) / \\\n",
    "    sqrt(abs(data['radiant_{}'.format(f)]) + abs(data['dire_{}'.format(f)])).replace(0, 1)\n",
    "new_predictors.append('diff_norm_{}'.format(f))\n",
    "data.drop('radiant_{}'.format(f), axis=1, inplace=True)\n",
    "data.drop('dire_{}'.format(f), axis=1, inplace=True)"
   ]
  },
  {
   "cell_type": "code",
   "execution_count": 33,
   "metadata": {
    "collapsed": true
   },
   "outputs": [],
   "source": [
    "f = 'ring_of_regen_count'\n",
    "data['diff_{}'.format(f)] = data['radiant_{}'.format(f)] - data['dire_{}'.format(f)]\n",
    "data.ix[data.diff_ring_of_regen_count > 6, 'diff_ring_of_regen_count'] = 6\n",
    "\n",
    "data['diff_norm_{}'.format(f)] = (data['radiant_{}'.format(f)] - data['dire_{}'.format(f)]) / \\\n",
    "    sqrt(abs(data['radiant_{}'.format(f)]) + abs(data['dire_{}'.format(f)])).replace(0, 1)\n",
    "new_predictors.append('diff_norm_{}'.format(f))\n",
    "data.drop('radiant_{}'.format(f), axis=1, inplace=True)\n",
    "data.drop('dire_{}'.format(f), axis=1, inplace=True)"
   ]
  },
  {
   "cell_type": "code",
   "execution_count": 34,
   "metadata": {
    "collapsed": true
   },
   "outputs": [],
   "source": [
    "f = 'sobi_mask_count'\n",
    "data['diff_{}'.format(f)] = data['radiant_{}'.format(f)] - data['dire_{}'.format(f)]\n",
    "data.ix[data.diff_sobi_mask_count > 6, 'diff_sobi_mask_count'] = 6\n",
    "data.ix[data.diff_sobi_mask_count < -6, 'diff_sobi_mask_count'] = -6\n",
    "\n",
    "data['diff_norm_{}'.format(f)] = (data['radiant_{}'.format(f)] - data['dire_{}'.format(f)]) / \\\n",
    "    sqrt(abs(data['radiant_{}'.format(f)]) + abs(data['dire_{}'.format(f)])).replace(0, 1)\n",
    "new_predictors.append('diff_norm_{}'.format(f))\n",
    "data.drop('radiant_{}'.format(f), axis=1, inplace=True)\n",
    "data.drop('dire_{}'.format(f), axis=1, inplace=True)"
   ]
  },
  {
   "cell_type": "code",
   "execution_count": 35,
   "metadata": {
    "collapsed": true
   },
   "outputs": [],
   "source": [
    "f = 'tango_count'\n",
    "data['diff_{}'.format(f)] = data['radiant_{}'.format(f)] - data['dire_{}'.format(f)]\n",
    "data.ix[data.diff_tango_count > 7, 'diff_tango_count'] = 7\n",
    "data.ix[data.diff_tango_count < -7, 'diff_tango_count'] = -7\n",
    "\n",
    "data['diff_norm_{}'.format(f)] = (data['radiant_{}'.format(f)] - data['dire_{}'.format(f)]) / \\\n",
    "    sqrt(abs(data['radiant_{}'.format(f)]) + abs(data['dire_{}'.format(f)])).replace(0, 1)\n",
    "new_predictors.append('diff_norm_{}'.format(f))\n",
    "data.drop('radiant_{}'.format(f), axis=1, inplace=True)\n",
    "data.drop('dire_{}'.format(f), axis=1, inplace=True)"
   ]
  },
  {
   "cell_type": "code",
   "execution_count": 36,
   "metadata": {
    "collapsed": true
   },
   "outputs": [],
   "source": [
    "f = 'ring_of_health_count'\n",
    "data['diff_{}'.format(f)] = data['radiant_{}'.format(f)] - data['dire_{}'.format(f)]\n",
    "data.ix[data.diff_ring_of_health_count > 2, 'diff_ring_of_health_count'] = 2\n",
    "\n",
    "data['diff_norm_{}'.format(f)] = (data['radiant_{}'.format(f)] - data['dire_{}'.format(f)]) / \\\n",
    "    sqrt(abs(data['radiant_{}'.format(f)]) + abs(data['dire_{}'.format(f)])).replace(0, 1)\n",
    "new_predictors.append('diff_norm_{}'.format(f))\n",
    "data.drop('radiant_{}'.format(f), axis=1, inplace=True)\n",
    "data.drop('dire_{}'.format(f), axis=1, inplace=True)"
   ]
  },
  {
   "cell_type": "code",
   "execution_count": 37,
   "metadata": {
    "collapsed": true
   },
   "outputs": [],
   "source": [
    "f = 'wraith_band_count'\n",
    "data['diff_{}'.format(f)] = data['radiant_{}'.format(f)] - data['dire_{}'.format(f)]\n",
    "data.ix[data.diff_wraith_band_count > 4, 'diff_wraith_band_count'] = 4\n",
    "\n",
    "data['diff_norm_{}'.format(f)] = (data['radiant_{}'.format(f)] - data['dire_{}'.format(f)]) / \\\n",
    "    sqrt(abs(data['radiant_{}'.format(f)]) + abs(data['dire_{}'.format(f)])).replace(0, 1)\n",
    "new_predictors.append('diff_norm_{}'.format(f))\n",
    "data.drop('radiant_{}'.format(f), axis=1, inplace=True)\n",
    "data.drop('dire_{}'.format(f), axis=1, inplace=True)"
   ]
  },
  {
   "cell_type": "code",
   "execution_count": 38,
   "metadata": {
    "collapsed": true
   },
   "outputs": [],
   "source": [
    "f = 'null_talisman_count'\n",
    "data['diff_{}'.format(f)] = data['radiant_{}'.format(f)] - data['dire_{}'.format(f)]\n",
    "data.ix[data.diff_null_talisman_count > 4, 'diff_null_talisman_count'] = 4\n",
    "\n",
    "data['diff_norm_{}'.format(f)] = (data['radiant_{}'.format(f)] - data['dire_{}'.format(f)]) / \\\n",
    "    sqrt(abs(data['radiant_{}'.format(f)]) + abs(data['dire_{}'.format(f)])).replace(0, 1)\n",
    "new_predictors.append('diff_norm_{}'.format(f))\n",
    "data.drop('radiant_{}'.format(f), axis=1, inplace=True)\n",
    "data.drop('dire_{}'.format(f), axis=1, inplace=True)"
   ]
  },
  {
   "cell_type": "code",
   "execution_count": 39,
   "metadata": {
    "collapsed": true
   },
   "outputs": [],
   "source": [
    "f = 'headdress_count'\n",
    "data['diff_{}'.format(f)] = data['radiant_{}'.format(f)] - data['dire_{}'.format(f)]\n",
    "data.ix[data.diff_headdress_count > 1, 'diff_headdress_count'] = 1\n",
    "\n",
    "data['diff_norm_{}'.format(f)] = (data['radiant_{}'.format(f)] - data['dire_{}'.format(f)]) / \\\n",
    "    sqrt(abs(data['radiant_{}'.format(f)]) + abs(data['dire_{}'.format(f)])).replace(0, 1)\n",
    "new_predictors.append('diff_norm_{}'.format(f))\n",
    "data.drop('radiant_{}'.format(f), axis=1, inplace=True)\n",
    "data.drop('dire_{}'.format(f), axis=1, inplace=True)"
   ]
  },
  {
   "cell_type": "code",
   "execution_count": 40,
   "metadata": {
    "collapsed": true
   },
   "outputs": [],
   "source": [
    "f = 'smoke_of_deceit_count'\n",
    "data['diff_{}'.format(f)] = data['radiant_{}'.format(f)] - data['dire_{}'.format(f)]\n",
    "data.ix[data.diff_smoke_of_deceit_count > 5, 'diff_smoke_of_deceit_count'] = 5\n",
    "data.ix[data.diff_smoke_of_deceit_count < -5, 'diff_smoke_of_deceit_count'] = -5\n",
    "\n",
    "data['diff_norm_{}'.format(f)] = (data['radiant_{}'.format(f)] - data['dire_{}'.format(f)]) / \\\n",
    "    sqrt(abs(data['radiant_{}'.format(f)]) + abs(data['dire_{}'.format(f)])).replace(0, 1)\n",
    "new_predictors.append('diff_norm_{}'.format(f))\n",
    "data.drop('radiant_{}'.format(f), axis=1, inplace=True)\n",
    "data.drop('dire_{}'.format(f), axis=1, inplace=True)"
   ]
  },
  {
   "cell_type": "code",
   "execution_count": 41,
   "metadata": {
    "collapsed": true
   },
   "outputs": [],
   "source": [
    "f = 'tranquil_boots_count'\n",
    "data['diff_{}'.format(f)] = data['radiant_{}'.format(f)] - data['dire_{}'.format(f)]\n",
    "data.ix[data.diff_tranquil_boots_count > 2, 'diff_tranquil_boots_count'] = 2\n",
    "data.ix[data.diff_tranquil_boots_count < -2, 'diff_tranquil_boots_count'] = -2\n",
    "\n",
    "data['diff_norm_{}'.format(f)] = (data['radiant_{}'.format(f)] - data['dire_{}'.format(f)]) / \\\n",
    "    sqrt(abs(data['radiant_{}'.format(f)]) + abs(data['dire_{}'.format(f)])).replace(0, 1)\n",
    "new_predictors.append('diff_norm_{}'.format(f))\n",
    "data.drop('radiant_{}'.format(f), axis=1, inplace=True)\n",
    "data.drop('dire_{}'.format(f), axis=1, inplace=True)"
   ]
  },
  {
   "cell_type": "code",
   "execution_count": 42,
   "metadata": {
    "collapsed": true
   },
   "outputs": [],
   "source": [
    "# Relative values for features in commands\n",
    "# The more boots_count, the more often win\n",
    "f_ = [\n",
    "    'bottle_time',\n",
    "    'courier_time',\n",
    "    'flying_courier_time',\n",
    "    #'tpscroll_count',\n",
    "    #'boots_count', \n",
    "    #'ward_observer_count',\n",
    "    #'ward_sentry_count',\n",
    "    'first_ward_time']\n",
    "\n",
    "\n",
    "for f in f_:\n",
    "    data['diff_{}'.format(f)] = data['radiant_{}'.format(f)] - data['dire_{}'.format(f)]\n",
    "    data['diff_norm_{}'.format(f)] = (data['radiant_{}'.format(f)] - data['dire_{}'.format(f)]) / \\\n",
    "        sqrt(abs(data['radiant_{}'.format(f)]) + abs(data['dire_{}'.format(f)])).replace(0, 1)\n",
    "    new_predictors.append('diff_norm_{}'.format(f))\n",
    "    data.drop('radiant_{}'.format(f), axis=1, inplace=True)\n",
    "    data.drop('dire_{}'.format(f), axis=1, inplace=True)"
   ]
  },
  {
   "cell_type": "code",
   "execution_count": 29,
   "metadata": {
    "collapsed": true
   },
   "outputs": [],
   "source": [
    "def hist_by_radiant_win(df, field, bins=50):\n",
    "    groups = df.groupby('radiant_win')[field]\n",
    "    fig, ax = plt.subplots()\n",
    "    for k, v in reversed(list(groups)):\n",
    "        v.hist(label=str(k), alpha=.75, ax=ax, bins=bins)\n",
    "\n",
    "    ax.legend(title='radiant_win')"
   ]
  },
  {
   "cell_type": "code",
   "execution_count": 43,
   "metadata": {
    "collapsed": false
   },
   "outputs": [
    {
     "data": {
      "image/png": "[encoded data removed]",
      "text/plain": [
       "<matplotlib.figure.Figure at 0x7f14378091d0>"
      ]
     },
     "metadata": {},
     "output_type": "display_data"
    }
   ],
   "source": [
    "figsize = (25, 20)\n",
    "hist_by_radiant_win(data, 'diff_boots_count')"
   ]
  },
  {
   "cell_type": "code",
   "execution_count": 43,
   "metadata": {
    "collapsed": true
   },
   "outputs": [],
   "source": [
    "remove = ['claymore_count',\n",
    "         'chainmail_count', \n",
    "         'javelin_count', \n",
    "         'mithril_hammer_count', \n",
    "         'quarterstaff_count', \n",
    "         'gauntlets_count', \n",
    "         'robe_count', \n",
    "         'ogre_axe_count', \n",
    "         'blade_of_alacrity_count', \n",
    "         'staff_of_wizardry_count', \n",
    "         'gem_count', \n",
    "         'cloak_count', \n",
    "         'clarity_count', \n",
    "         #'ward_observer_count',    #!\n",
    "         #'ward_sentry_count',       #!\n",
    "         'courier_count',\n",
    "         'travel_boots_count',\n",
    "         'void_stone_count',\n",
    "         'point_booster_count', \n",
    "         'vitality_booster_count', \n",
    "         'hand_of_midas_count', \n",
    "         'oblivion_staff_count', \n",
    "         'pers_count', \n",
    "         'mekansm_count', \n",
    "         'bracer_count', \n",
    "         'vladmir_count', \n",
    "         'buckler_count', \n",
    "         'urn_of_shadows_count', \n",
    "         'vanguard_count', \n",
    "         'blade_mail_count', \n",
    "         'armlet_count', \n",
    "         'sange_count', \n",
    "         'yasha_count', \n",
    "         'mask_of_madness_count', \n",
    "         'medallion_of_courage_count', \n",
    "         'ancient_janggo_count', \n",
    "         'shadow_amulet_count', \n",
    "         'ward_dispenser_count',\n",
    "         'boots_of_elves_count', \n",
    "         'flask_count', \n",
    "         'dust_count'\n",
    "          \n",
    "         ]"
   ]
  },
  {
   "cell_type": "code",
   "execution_count": 44,
   "metadata": {
    "collapsed": true
   },
   "outputs": [],
   "source": [
    "f_ = [col_name[8:] for col_name in items_train.columns if col_name[:7]=='radiant']\n",
    "f_  = [col_name for col_name in f_ if col_name not in outliers and col_name not in remove]\n",
    "for f in f_:\n",
    "    data['diff_{}'.format(f)] = data['radiant_{}'.format(f)] - data['dire_{}'.format(f)]\n",
    "    data['diff_norm_{}'.format(f)] = (data['radiant_{}'.format(f)] - data['dire_{}'.format(f)]) / \\\n",
    "        sqrt(abs(data['radiant_{}'.format(f)]) + abs(data['dire_{}'.format(f)])).replace(0, 1)\n",
    "    new_predictors.append('diff_norm_{}'.format(f))\n",
    "    data.drop('radiant_{}'.format(f), axis=1, inplace=True)\n",
    "    data.drop('dire_{}'.format(f), axis=1, inplace=True)"
   ]
  },
  {
   "cell_type": "code",
   "execution_count": 14,
   "metadata": {
    "collapsed": false
   },
   "outputs": [],
   "source": [
    "# The ratio of deaths to kills. Don't work.\n",
    "data['r_deaths/kills'] = data[['r{}_deaths'.format(i) for i in range(1, 6)]].sum(\n",
    "    axis=1) / data[['r{}_kills'.format(i) for i in range(1, 6)]].sum(axis=1).replace(0, 1)\n",
    "\n",
    "data['d_deaths/kills'] = data[['d{}_deaths'.format(i) for i in range(1, 6)]].sum(\n",
    "    axis=1) / data[['d{}_kills'.format(i) for i in range(1, 6)]].sum(axis=1).replace(0, 1)\n",
    "\n",
    "for i in range(1, 6):\n",
    "    data.drop('r{}_{}'.format(i, 'deaths'), inplace=True)\n",
    "    data.drop('r{}_{}'.format(i, 'kills'), inplace=True)\n",
    "    data.drop('d{}_{}'.format(i, 'deaths'), inplace=True)\n",
    "    data.drop('d{}_{}'.format(i, 'kills'), inplace=True)"
   ]
  },
  {
   "cell_type": "code",
   "execution_count": 50,
   "metadata": {
    "collapsed": true
   },
   "outputs": [],
   "source": [
    "predictors = [col_name for col_name in data.columns if col_name != target and col_name not in remove]"
   ]
  },
  {
   "cell_type": "code",
   "execution_count": 51,
   "metadata": {
    "collapsed": false
   },
   "outputs": [],
   "source": [
    "predictors = [col_name for col_name in predictors if col_name[:4]!='dire' and col_name[:7]!='radiant']"
   ]
  },
  {
   "cell_type": "code",
   "execution_count": 56,
   "metadata": {
    "collapsed": false
   },
   "outputs": [],
   "source": [
    "n_samples =  data_train.shape[0]\n",
    "data_train = data[:n_samples].copy()\n",
    "data_test = data[n_samples:].copy()\n",
    "data_test.drop(target, axis=1, inplace=True)"
   ]
  },
  {
   "cell_type": "code",
   "execution_count": 57,
   "metadata": {
    "collapsed": false
   },
   "outputs": [],
   "source": [
    "from sklearn.preprocessing import StandardScaler\n",
    "\n",
    "norm = [col_name for col_name in data.columns\n",
    "        if col_name not in new_predictors and\n",
    "        col_name != target and\n",
    "        col_name != 'first_blood_team' and col_name != 'first_blood_time' ]  \n",
    "\n",
    "for col_name in norm:\n",
    "    scaler = StandardScaler(with_mean = False)\n",
    "    data_train[col_name] = scaler.fit_transform(data_train[col_name].astype(float))\n",
    "    data_test[col_name] = scaler.transform(data_test[col_name].astype(float))"
   ]
  },
  {
   "cell_type": "code",
   "execution_count": 58,
   "metadata": {
    "collapsed": false
   },
   "outputs": [],
   "source": [
    "scaler = StandardScaler()\n",
    "col_name  = 'first_blood_time'\n",
    "data_train[col_name] = scaler.fit_transform(data_train[col_name].astype(float))\n",
    "data_test[col_name] = scaler.transform(data_test[col_name].astype(float))\n",
    "\n",
    "#scaler = StandardScaler()\n",
    "#col_name = 'start_time'\n",
    "#data_train[col_name] = scaler.fit_transform(data_train[col_name].astype(float))\n",
    "#data_test[col_name] = scaler.transform(data_test[col_name].astype(float))"
   ]
  },
  {
   "cell_type": "code",
   "execution_count": 59,
   "metadata": {
    "collapsed": true
   },
   "outputs": [],
   "source": [
    "import os\n",
    "os.environ['JOBLIB_TEMP_FOLDER'] = \"/notebooks/tmp\""
   ]
  },
  {
   "cell_type": "code",
   "execution_count": 61,
   "metadata": {
    "collapsed": false
   },
   "outputs": [
    {
     "data": {
      "text/plain": [
       "([mean: -0.58517, std: 0.01207, params: {'C': 0.001},\n",
       "  mean: -0.58403, std: 0.01068, params: {'C': 0.01},\n",
       "  mean: -0.58461, std: 0.01000, params: {'C': 0.1},\n",
       "  mean: -0.58498, std: 0.00987, params: {'C': 10},\n",
       "  mean: -0.58498, std: 0.00983, params: {'C': 100}],\n",
       " {'C': 0.01},\n",
       " -0.58402820851103199)"
      ]
     },
     "execution_count": 61,
     "metadata": {},
     "output_type": "execute_result"
    }
   ],
   "source": [
    "# Заменили выбросы у diff_branches_count, diff_enchanted_mango_count\n",
    "param_test1 = {'C':[0.001, 0.01, 0.1, 10, 100]}\n",
    "\n",
    "gsearch1 = GridSearchCV(estimator = LogisticRegression(C=1.0),\n",
    "                                    param_grid = param_test1,\n",
    "                                    scoring='log_loss',\n",
    "                                    n_jobs=-1,\n",
    "                                    cv=5,\n",
    "                                    iid=False) \n",
    "\n",
    "gsearch1.fit(data_train[predictors], data_train[target])\n",
    "gsearch1.grid_scores_, gsearch1.best_params_, gsearch1.best_score_"
   ]
  },
  {
   "cell_type": "code",
   "execution_count": 2,
   "metadata": {
    "collapsed": false
   },
   "outputs": [],
   "source": [
    "data_train = pd.read_csv('data_train.csv', index_col = 'match_id')\n",
    "data_test = pd.read_csv('data_test.csv', index_col = 'match_id')\n",
    "target  = 'radiant_win'\n",
    "predictors = [col_name for col_name in data_test.columns]"
   ]
  },
  {
   "cell_type": "code",
   "execution_count": 64,
   "metadata": {
    "collapsed": false
   },
   "outputs": [],
   "source": [
    "logreg = LogisticRegression(C=0.01).fit(data_train[predictors], data_train[target])"
   ]
  },
  {
   "cell_type": "code",
   "execution_count": 65,
   "metadata": {
    "collapsed": false
   },
   "outputs": [],
   "source": [
    "y_pred = logreg.predict_proba(data_test[predictors])[:, 1]\n",
    "y_pred = (y_pred - y_pred.min()) / (y_pred.max() - y_pred.min())"
   ]
  },
  {
   "cell_type": "code",
   "execution_count": 66,
   "metadata": {
    "collapsed": false
   },
   "outputs": [],
   "source": [
    "id_ = pd.DataFrame(data_test.index, columns = ['match_id'])\n",
    "pred = pd.DataFrame(y_pred, columns = ['radiant_win'])\n",
    "pred = pd.concat([id_, pred], axis = 1)\n",
    "pred.to_csv('dota_pred.csv', index = False)"
   ]
  },
  {
   "cell_type": "code",
   "execution_count": 98,
   "metadata": {
    "collapsed": false
   },
   "outputs": [
    {
     "name": "stdout",
     "output_type": "stream",
     "text": [
      "Already up-to-date.\n"
     ]
    },
    {
     "name": "stderr",
     "output_type": "stream",
     "text": [
      "Cloning into 'pyloggers'...\n"
     ]
    }
   ],
   "source": [
    "%%bash\n",
    "git clone https://github.com/soboleva-daria/pyloggers.git\n",
    "cd pyloggers/ && git pull"
   ]
  },
  {
   "cell_type": "code",
   "execution_count": 99,
   "metadata": {
    "collapsed": false
   },
   "outputs": [],
   "source": [
    "import sys\n",
    "sys.path.insert(1,'pyloggers')\n",
    "from telegram_logger import TelegramLogger\n",
    "tl = TelegramLogger(name='dota', print_dual_logging=False)"
   ]
  },
  {
   "cell_type": "code",
   "execution_count": null,
   "metadata": {
    "collapsed": true
   },
   "outputs": [],
   "source": [
    "from sklearn.ensemble import RandomForestClassifier\n",
    "from sklearn.metrics import log_loss\n",
    "from sklearn.neighbors import KNeighborsClassifier\n",
    "\n",
    "from sklearn.cross_validation import train_test_split\n",
    "X_train, X_test, y_train, y_test = train_test_split(data_train[predictors],  data_train[target],\n",
    "                                                    test_size=0.1, random_state=241)\n",
    "\n",
    "\n",
    "LR_l2 = LogisticRegression(C=0.01).fit(X_train, y_train)\n",
    "RF = RandomForestClassifier(n_estimators=500, min_samples_leaf=100).fit(X_train, y_train)\n",
    "kNN =  KNeighborsClassifier(n_neighbors=99).fit(X_train, y_train)\n",
    "\n",
    "y_pred_lr2 = LR_l2.predict_proba(X_test)[:, 1]\n",
    "y_pred_rf = RF.predict_proba(X_test)[:, 1]\n",
    "y_pred_kNN = kNN.predict_proba(X_test)[:, 1]\n",
    "best_ans = [y_pred_lr2, y_pred_rf, y_pred_kNN]"
   ]
  },
  {
   "cell_type": "code",
   "execution_count": 117,
   "metadata": {
    "collapsed": true
   },
   "outputs": [],
   "source": [
    "from sklearn.cross_validation import train_test_split\n",
    "X_train, X_test, y_train, y_test = train_test_split(data_train[predictors],  data_train[target],\n",
    "                                                    test_size=0.1, random_state=241)\n",
    "\n",
    "\n",
    "LR_l2 = LogisticRegression(C=0.01).fit(X_train, y_train)\n",
    "LR_l1 = LogisticRegression(C=0.1, penalty='l1').fit(X_train, y_train)\n",
    "\n",
    "y_pred_lr2 = LR_l2.predict_proba(X_test)[:, 1]\n",
    "y_pred_lr1 = LR_l1.predict_proba(X_test)[:, 1]\n",
    "\n",
    "best_ans = [y_pred_lr2, y_pred_lr1]"
   ]
  },
  {
   "cell_type": "code",
   "execution_count": 125,
   "metadata": {
    "collapsed": true
   },
   "outputs": [],
   "source": [
    "scores = {}\n",
    "for w0 in linspace(0,1,30):\n",
    "        w1 = 1 - w0\n",
    "        if w1 >= 0 and w1 <=1:\n",
    "            ans = best_ans[0] * w0 + best_ans[1]  * w1\n",
    "            scores[w0, w1] = log_loss(y_test, ans)"
   ]
  },
  {
   "cell_type": "code",
   "execution_count": 106,
   "metadata": {
    "collapsed": false
   },
   "outputs": [],
   "source": [
    "# Сonvex combinations don't work :(\n",
    "scores = {}\n",
    "for w0 in linspace(0,1,30):\n",
    "    for w1 in linspace(0,1,30):\n",
    "        w2 = 1 - w0 - w1\n",
    "        if w2 >= 0 and w2 <=1:\n",
    "            ans = exp(log(best_ans[0] + 1) * w0 + log(best_ans[1] + 1) * w1 + log(best_ans[2] + 1) * w2) -1\n",
    "            scores[w0, w1] = log_loss(y_test, ans)"
   ]
  },
  {
   "cell_type": "code",
   "execution_count": 54,
   "metadata": {
    "collapsed": false
   },
   "outputs": [
    {
     "name": "stdout",
     "output_type": "stream",
     "text": [
      "0.602044432458\n"
     ]
    }
   ],
   "source": [
    "# Attempts to average ans\n",
    "LR_l2 =  LogisticRegression(C=0.01).fit(data_train[predictors], data_train[target])\n",
    "RF = RandomForestClassifier().fit(data_train[predictors], data_train[target])\n",
    "y_pred_lr2 = LR_l2.predict_proba(data_test[predictors])[:, 1]\n",
    "y_pred_rf = RF.predict_proba(data_test[predictors])[:, 1]\n",
    "scores = []\n",
    "\n",
    "\n",
    "kf = KFold(data_train.shape[0], 5)\n",
    "for i, j in kf:\n",
    "    data_train_ = data_train.iloc[i1]\n",
    "    data_test_ = data_train.iloc[j1]\n",
    "    \n",
    "    LR_l2 =  LogisticRegression(C=0.01).fit(data_train_[predictors], data_train_[target])\n",
    "    RF = RandomForestClassifier().fit(data_train_[predictors], data_train_[target])\n",
    "    kNN = KNeighborsClassifier().fit(data_train_[predictors], data_train_[target])\n",
    "    \n",
    "    y_pred_lr2 = LR_l2.predict_proba(data_test_[predictors])[:, 1]\n",
    "    y_pred_rf = RF.predict_proba(data_test_[predictors])[:, 1]\n",
    "    y_pred_kNN = kNN.predict_proba(data_test_[predictors])[:, 1]\n",
    "    \n",
    "    scores.append(log_loss(data_test_[target], (y_pred_lr2 + y_pred_rf + y_pred_kNN) / 3))\n",
    "    \n",
    "print(np.mean(scores))"
   ]
  },
  {
   "cell_type": "code",
   "execution_count": 45,
   "metadata": {
    "collapsed": false
   },
   "outputs": [
    {
     "data": {
      "text/html": [
       "<div>\n",
       "<table border=\"1\" class=\"dataframe\">\n",
       "  <thead>\n",
       "    <tr style=\"text-align: right;\">\n",
       "      <th></th>\n",
       "      <th>LR_lr2</th>\n",
       "      <th>RF</th>\n",
       "      <th>kNN</th>\n",
       "    </tr>\n",
       "  </thead>\n",
       "  <tbody>\n",
       "    <tr>\n",
       "      <th>LR_lr2</th>\n",
       "      <td>1.000000</td>\n",
       "      <td>0.741334</td>\n",
       "      <td>0.579214</td>\n",
       "    </tr>\n",
       "    <tr>\n",
       "      <th>RF</th>\n",
       "      <td>0.741334</td>\n",
       "      <td>1.000000</td>\n",
       "      <td>0.492912</td>\n",
       "    </tr>\n",
       "    <tr>\n",
       "      <th>kNN</th>\n",
       "      <td>0.579214</td>\n",
       "      <td>0.492912</td>\n",
       "      <td>1.000000</td>\n",
       "    </tr>\n",
       "  </tbody>\n",
       "</table>\n",
       "</div>"
      ],
      "text/plain": [
       "          LR_lr2        RF       kNN\n",
       "LR_lr2  1.000000  0.741334  0.579214\n",
       "RF      0.741334  1.000000  0.492912\n",
       "kNN     0.579214  0.492912  1.000000"
      ]
     },
     "execution_count": 45,
     "metadata": {},
     "output_type": "execute_result"
    }
   ],
   "source": [
    "from sklearn.ensemble import RandomForestClassifier\n",
    "from sklearn.metrics import log_loss\n",
    "from sklearn.neighbors import KNeighborsClassifier\n",
    "\n",
    "LR_l2 = LogisticRegression(C=0.01).fit(data_train[predictors], data_train[target])\n",
    "y_pred_lr2 = LR_l2.predict_proba(data_test[predictors])[:, 1]\n",
    "\n",
    "RF = RandomForestClassifier().fit(data_train[predictors], data_train[target])\n",
    "y_pred_rf = RF.predict_proba(data_test[predictors])[:, 1]\n",
    "\n",
    "kNN = KNeighborsClassifier().fit(data_train[predictors], data_train[target])\n",
    "y_pred_kNN = kNN.predict_proba(data_test[predictors])[:, 1]\n",
    "\n",
    "ans = {'LR_lr2':y_pred_lr2, 'RF':y_pred_rf, 'kNN': y_pred_kNN }\n",
    "pd.DataFrame(ans).corr()"
   ]
  }
 ],
 "metadata": {
  "kernelspec": {
   "display_name": "Python 3",
   "language": "python",
   "name": "python3"
  },
  "language_info": {
   "codemirror_mode": {
    "name": "ipython",
    "version": 3
   },
   "file_extension": ".py",
   "mimetype": "text/x-python",
   "name": "python",
   "nbconvert_exporter": "python",
   "pygments_lexer": "ipython3",
   "version": "3.5.2"
  }
 },
 "nbformat": 4,
 "nbformat_minor": 0
}
